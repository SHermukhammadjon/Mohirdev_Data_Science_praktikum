{
  "nbformat": 4,
  "nbformat_minor": 0,
  "metadata": {
    "colab": {
      "provenance": [],
      "authorship_tag": "ABX9TyOa+KdZJEh+ky8+2MVfC2i2",
      "include_colab_link": true
    },
    "kernelspec": {
      "name": "python3",
      "display_name": "Python 3"
    },
    "language_info": {
      "name": "python"
    }
  },
  "cells": [
    {
      "cell_type": "markdown",
      "metadata": {
        "id": "view-in-github",
        "colab_type": "text"
      },
      "source": [
        "<a href=\"https://colab.research.google.com/github/SHermukhammadjon/Mohirdev_Data_Science_praktikum/blob/main/8_14_logical_conditons.ipynb\" target=\"_parent\"><img src=\"https://colab.research.google.com/assets/colab-badge.svg\" alt=\"Open In Colab\"/></a>"
      ]
    },
    {
      "cell_type": "markdown",
      "source": [
        "# ![Imgur](https://i.imgur.com/5pXzCIu.png)\n",
        "#\\#8.14 Mantiqiy shart operatorlari"
      ],
      "metadata": {
        "id": "QC6HH92HFG05"
      }
    },
    {
      "cell_type": "code",
      "execution_count": 10,
      "metadata": {
        "id": "pbC06dIXCYjV"
      },
      "outputs": [],
      "source": [
        "import numpy as np"
      ]
    },
    {
      "cell_type": "markdown",
      "source": [
        "## Masala: \n",
        "### Bizta 2ta malumot (massivlar) bor : x_arr ava y_arr. Va ushbu arraylarni\n",
        "### uzunligi bilan teng condition_array True va False qiymatlaridan iborat massivimiz bor \n",
        "### agarshar True bo'ls  x_arr elementlarni False bo'lsa y_arr elementlarni qabul qiluvchi dastur tuzing"
      ],
      "metadata": {
        "id": "NI66eH8nFvhX"
      }
    },
    {
      "cell_type": "code",
      "source": [
        "x_arr = np.array([1.1, 1,2, 1.3, 1.4, 1.5])\n",
        "y_arr = np.array([2.1, 2.2, 2.3, 2.4, 2.5])"
      ],
      "metadata": {
        "id": "bfQfd-Y7DBiR"
      },
      "execution_count": 11,
      "outputs": []
    },
    {
      "cell_type": "code",
      "source": [
        "#conditon\n",
        "cond = np.array([True, False, True, True, False])\n",
        "cond"
      ],
      "metadata": {
        "colab": {
          "base_uri": "https://localhost:8080/"
        },
        "id": "eot1nAPeDEIP",
        "outputId": "9b55d7d7-a7f6-4fd6-9e98-ddc830f1d7a1"
      },
      "execution_count": 12,
      "outputs": [
        {
          "output_type": "execute_result",
          "data": {
            "text/plain": [
              "array([ True, False,  True,  True, False])"
            ]
          },
          "metadata": {},
          "execution_count": 12
        }
      ]
    },
    {
      "cell_type": "code",
      "source": [],
      "metadata": {
        "id": "GWwO9x6dDNZr"
      },
      "execution_count": null,
      "outputs": []
    }
  ]
}