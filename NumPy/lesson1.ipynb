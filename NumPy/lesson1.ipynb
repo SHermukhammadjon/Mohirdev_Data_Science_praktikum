{
  "nbformat": 4,
  "nbformat_minor": 0,
  "metadata": {
    "colab": {
      "provenance": []
    },
    "kernelspec": {
      "name": "python3",
      "display_name": "Python 3"
    },
    "language_info": {
      "name": "python"
    }
  },
  "cells": [
    {
      "cell_type": "markdown",
      "source": [
        "#\\#8.2 List and array"
      ],
      "metadata": {
        "id": "mdEdcBR_PFvE"
      }
    },
    {
      "cell_type": "code",
      "execution_count": 2,
      "metadata": {
        "id": "Ceo204wnhrjF"
      },
      "outputs": [],
      "source": [
        "import numpy as np "
      ]
    },
    {
      "cell_type": "code",
      "source": [
        "python_list = list(range(100_000))\n",
        "numpy_array = np.array(python_list)"
      ],
      "metadata": {
        "id": "oFz87v-ThyQZ"
      },
      "execution_count": 13,
      "outputs": []
    },
    {
      "cell_type": "code",
      "source": [
        "python_list[-1]"
      ],
      "metadata": {
        "colab": {
          "base_uri": "https://localhost:8080/"
        },
        "id": "BIBhDhMKxBmi",
        "outputId": "69bb21e8-a1c6-4d82-b7be-de6d6ba66959"
      },
      "execution_count": 14,
      "outputs": [
        {
          "output_type": "execute_result",
          "data": {
            "text/plain": [
              "99999"
            ]
          },
          "metadata": {},
          "execution_count": 14
        }
      ]
    },
    {
      "cell_type": "code",
      "source": [
        "numpy_array "
      ],
      "metadata": {
        "id": "lv_3EJ1dQC4b",
        "outputId": "e0a2f9ba-b719-44e1-8c9a-2825afb2f7be",
        "colab": {
          "base_uri": "https://localhost:8080/"
        }
      },
      "execution_count": 16,
      "outputs": [
        {
          "output_type": "execute_result",
          "data": {
            "text/plain": [
              "array([    0,     1,     2, ..., 99997, 99998, 99999])"
            ]
          },
          "metadata": {},
          "execution_count": 16
        }
      ]
    },
    {
      "cell_type": "code",
      "source": [
        "%time for _ in range(10): [x*2 for x in python_list] #Normal xisoblash"
      ],
      "metadata": {
        "id": "bO_2R0a3S-W4",
        "outputId": "34740cfc-6b22-4aab-80cc-c3c89ae40ced",
        "colab": {
          "base_uri": "https://localhost:8080/"
        }
      },
      "execution_count": 25,
      "outputs": [
        {
          "output_type": "stream",
          "name": "stdout",
          "text": [
            "CPU times: user 76 ms, sys: 14.3 ms, total: 90.3 ms\n",
            "Wall time: 93.4 ms\n"
          ]
        }
      ]
    },
    {
      "cell_type": "code",
      "source": [
        "%time for _ in range(10): numpy_array*2 # Vektorlashgan xisoblash"
      ],
      "metadata": {
        "id": "EvkxDhTAT0ma",
        "outputId": "e951a3cf-2fd1-42c7-965c-c0afbf292db8",
        "colab": {
          "base_uri": "https://localhost:8080/"
        }
      },
      "execution_count": 27,
      "outputs": [
        {
          "output_type": "stream",
          "name": "stdout",
          "text": [
            "CPU times: user 2.64 ms, sys: 0 ns, total: 2.64 ms\n",
            "Wall time: 3.4 ms\n"
          ]
        }
      ]
    },
    {
      "cell_type": "markdown",
      "source": [
        "#\\#8.3 Numpy array"
      ],
      "metadata": {
        "id": "I5OK1-71WXl4"
      }
    },
    {
      "cell_type": "code",
      "source": [
        "data1 = [1, 2, 3, 4, 5, 6, 7, 1, 0, -1]\n",
        "array1 = np.array(data1)"
      ],
      "metadata": {
        "id": "35VScA9_Uj3j"
      },
      "execution_count": 42,
      "outputs": []
    },
    {
      "cell_type": "code",
      "source": [
        "print(type(array1))\n",
        "print(type(data1))"
      ],
      "metadata": {
        "id": "3SJgJ5eyWyOp",
        "outputId": "fcc56283-7727-4919-89b8-9abf9f9876f1",
        "colab": {
          "base_uri": "https://localhost:8080/"
        }
      },
      "execution_count": 43,
      "outputs": [
        {
          "output_type": "stream",
          "name": "stdout",
          "text": [
            "<class 'numpy.ndarray'>\n",
            "<class 'list'>\n"
          ]
        }
      ]
    },
    {
      "cell_type": "code",
      "source": [
        "data2 = (1, 2, 3, 4, 5, 6, 7, 1, 0, -1)\n",
        "array2 = np.array(data1)"
      ],
      "metadata": {
        "id": "hDsIgkLQW2O7"
      },
      "execution_count": 44,
      "outputs": []
    },
    {
      "cell_type": "code",
      "source": [
        "print(type(array2))\n",
        "print(type(data2))"
      ],
      "metadata": {
        "id": "6L6Do0AYWzRx",
        "outputId": "2154684c-23ba-4b19-a7a4-8de87e1fceed",
        "colab": {
          "base_uri": "https://localhost:8080/"
        }
      },
      "execution_count": 45,
      "outputs": [
        {
          "output_type": "stream",
          "name": "stdout",
          "text": [
            "<class 'numpy.ndarray'>\n",
            "<class 'tuple'>\n"
          ]
        }
      ]
    },
    {
      "cell_type": "code",
      "source": [
        "array2 "
      ],
      "metadata": {
        "id": "BV-qlpCsXR6Y",
        "outputId": "427d6393-3330-4f3d-8f52-22e06ea0ce58",
        "colab": {
          "base_uri": "https://localhost:8080/"
        }
      },
      "execution_count": 46,
      "outputs": [
        {
          "output_type": "execute_result",
          "data": {
            "text/plain": [
              "array([ 1,  2,  3,  4,  5,  6,  7,  1,  0, -1])"
            ]
          },
          "metadata": {},
          "execution_count": 46
        }
      ]
    },
    {
      "cell_type": "markdown",
      "source": [
        "### Massiv o'lchami"
      ],
      "metadata": {
        "id": "UUDl0MuvXkR6"
      }
    },
    {
      "cell_type": "markdown",
      "source": [
        "### 1D array"
      ],
      "metadata": {
        "id": "uqNi_3ZfZ0vH"
      }
    },
    {
      "cell_type": "code",
      "source": [
        "array1.ndim"
      ],
      "metadata": {
        "id": "DS2OmjDDXVP8",
        "outputId": "93bd5e46-6fc0-4aa9-d5c9-72382019da2d",
        "colab": {
          "base_uri": "https://localhost:8080/"
        }
      },
      "execution_count": 47,
      "outputs": [
        {
          "output_type": "execute_result",
          "data": {
            "text/plain": [
              "1"
            ]
          },
          "metadata": {},
          "execution_count": 47
        }
      ]
    },
    {
      "cell_type": "code",
      "source": [
        "array2.ndim"
      ],
      "metadata": {
        "id": "x1h7q7CiX88O",
        "outputId": "ea7e271e-c7a1-4143-aa67-336abd3bd207",
        "colab": {
          "base_uri": "https://localhost:8080/"
        }
      },
      "execution_count": 48,
      "outputs": [
        {
          "output_type": "execute_result",
          "data": {
            "text/plain": [
              "1"
            ]
          },
          "metadata": {},
          "execution_count": 48
        }
      ]
    },
    {
      "cell_type": "code",
      "source": [
        "two_dimensional_list = [[1, 2, 3, 4], [5, 6, 7, 8]] #list ichidagi list 2d"
      ],
      "metadata": {
        "id": "t0YBPcLCX-69"
      },
      "execution_count": 57,
      "outputs": []
    },
    {
      "cell_type": "markdown",
      "source": [
        "### 2D array"
      ],
      "metadata": {
        "id": "j2sCSV4wYoGo"
      }
    },
    {
      "cell_type": "code",
      "source": [
        "array3 = np.array(two_dimensional_list)"
      ],
      "metadata": {
        "id": "bFK7rpHmYUyf"
      },
      "execution_count": 58,
      "outputs": []
    },
    {
      "cell_type": "code",
      "source": [
        "array3.ndim"
      ],
      "metadata": {
        "id": "VYle_e9MYfYR",
        "outputId": "dd10b492-b1d3-4faa-cd6f-c477197e1dcc",
        "colab": {
          "base_uri": "https://localhost:8080/"
        }
      },
      "execution_count": 59,
      "outputs": [
        {
          "output_type": "execute_result",
          "data": {
            "text/plain": [
              "2"
            ]
          },
          "metadata": {},
          "execution_count": 59
        }
      ]
    },
    {
      "cell_type": "markdown",
      "source": [
        "### 3D array"
      ],
      "metadata": {
        "id": "bdcSfR51aBBn"
      }
    },
    {
      "cell_type": "code",
      "source": [
        "three_dimensional_list = [[data2, data2], [data2, data2], [data2, data2]] # 3 o'lchamli list"
      ],
      "metadata": {
        "id": "dedFkfInY-YQ"
      },
      "execution_count": 74,
      "outputs": []
    },
    {
      "cell_type": "code",
      "source": [
        "array4 = np.array(three_dimensional_list) # 3 o'lchamli massiv"
      ],
      "metadata": {
        "id": "BWr8Gl3XYnD7"
      },
      "execution_count": 75,
      "outputs": []
    },
    {
      "cell_type": "code",
      "source": [
        "array4.ndim "
      ],
      "metadata": {
        "id": "VdE8g-rLY684",
        "outputId": "5f2e9063-763e-4f3b-a5ac-b8c17033270c",
        "colab": {
          "base_uri": "https://localhost:8080/"
        }
      },
      "execution_count": 76,
      "outputs": [
        {
          "output_type": "execute_result",
          "data": {
            "text/plain": [
              "3"
            ]
          },
          "metadata": {},
          "execution_count": 76
        }
      ]
    },
    {
      "cell_type": "markdown",
      "source": [
        "### .shape va .size argumentlari"
      ],
      "metadata": {
        "id": "GsNzwI8VaOdT"
      }
    },
    {
      "cell_type": "code",
      "source": [
        "array2 "
      ],
      "metadata": {
        "id": "2WVAp0SKZjNB",
        "outputId": "cdafa47f-ebf7-47fc-a092-b859f0012eb0",
        "colab": {
          "base_uri": "https://localhost:8080/"
        }
      },
      "execution_count": 79,
      "outputs": [
        {
          "output_type": "execute_result",
          "data": {
            "text/plain": [
              "array([ 1,  2,  3,  4,  5,  6,  7,  1,  0, -1])"
            ]
          },
          "metadata": {},
          "execution_count": 79
        }
      ]
    },
    {
      "cell_type": "code",
      "source": [
        "array2.shape  # Qator va ustunlar sonini chiqarib beradi"
      ],
      "metadata": {
        "id": "dFL5_JJCaLR6",
        "outputId": "e51339ab-b364-4d58-e915-0dc9aa81ed47",
        "colab": {
          "base_uri": "https://localhost:8080/"
        }
      },
      "execution_count": 84,
      "outputs": [
        {
          "output_type": "execute_result",
          "data": {
            "text/plain": [
              "(10,)"
            ]
          },
          "metadata": {},
          "execution_count": 84
        }
      ]
    },
    {
      "cell_type": "code",
      "source": [
        "array4"
      ],
      "metadata": {
        "id": "xNHPZJSWajuI",
        "outputId": "9b09ea06-21bb-4215-96b4-5e6ae4451b78",
        "colab": {
          "base_uri": "https://localhost:8080/"
        }
      },
      "execution_count": 85,
      "outputs": [
        {
          "output_type": "execute_result",
          "data": {
            "text/plain": [
              "array([[[ 1,  2,  3,  4,  5,  6,  7,  1,  0, -1],\n",
              "        [ 1,  2,  3,  4,  5,  6,  7,  1,  0, -1]],\n",
              "\n",
              "       [[ 1,  2,  3,  4,  5,  6,  7,  1,  0, -1],\n",
              "        [ 1,  2,  3,  4,  5,  6,  7,  1,  0, -1]],\n",
              "\n",
              "       [[ 1,  2,  3,  4,  5,  6,  7,  1,  0, -1],\n",
              "        [ 1,  2,  3,  4,  5,  6,  7,  1,  0, -1]]])"
            ]
          },
          "metadata": {},
          "execution_count": 85
        }
      ]
    },
    {
      "cell_type": "code",
      "source": [
        "array4.shape "
      ],
      "metadata": {
        "id": "5RrbQtG-bD5T",
        "outputId": "e1725401-f8cb-4070-aa4b-ff529aa113f5",
        "colab": {
          "base_uri": "https://localhost:8080/"
        }
      },
      "execution_count": 86,
      "outputs": [
        {
          "output_type": "execute_result",
          "data": {
            "text/plain": [
              "(3, 2, 10)"
            ]
          },
          "metadata": {},
          "execution_count": 86
        }
      ]
    },
    {
      "cell_type": "code",
      "source": [
        "array4.size # Arrayni ichda nechta element borligni aytaradi"
      ],
      "metadata": {
        "id": "NW7KNUjDbHZy",
        "outputId": "8d261bb1-91e0-413e-ba33-dcfa6da90145",
        "colab": {
          "base_uri": "https://localhost:8080/"
        }
      },
      "execution_count": 88,
      "outputs": [
        {
          "output_type": "execute_result",
          "data": {
            "text/plain": [
              "60"
            ]
          },
          "metadata": {},
          "execution_count": 88
        }
      ]
    },
    {
      "cell_type": "markdown",
      "source": [
        "## N-o'lcho'vli numpy arraylarni yaratishning boshqa usullari\n",
        "\n",
        "#### zeros va ones funksyalari yordamida massivlar yaratish"
      ],
      "metadata": {
        "id": "DzhpI4Ydbz6A"
      }
    },
    {
      "cell_type": "code",
      "source": [
        "array = np.zeros((2, 4)) # Baracha elementlari 0ga teng (2, 4)\n",
        "array"
      ],
      "metadata": {
        "id": "XAjEE48lbpoR",
        "outputId": "b8a40f5e-b7f5-4fc7-d224-6c7a435a58e0",
        "colab": {
          "base_uri": "https://localhost:8080/"
        }
      },
      "execution_count": 91,
      "outputs": [
        {
          "output_type": "execute_result",
          "data": {
            "text/plain": [
              "array([[0., 0., 0., 0.],\n",
              "       [0., 0., 0., 0.]])"
            ]
          },
          "metadata": {},
          "execution_count": 91
        }
      ]
    },
    {
      "cell_type": "code",
      "source": [
        "array = np.ones((2, 4)) # Baracha elementlari 0ga teng (2, 4)\n",
        "array"
      ],
      "metadata": {
        "id": "apZw7woabcU1",
        "outputId": "9c52c8d7-4bf1-4b13-fa5a-b90364b47a95",
        "colab": {
          "base_uri": "https://localhost:8080/"
        }
      },
      "execution_count": 92,
      "outputs": [
        {
          "output_type": "execute_result",
          "data": {
            "text/plain": [
              "array([[1., 1., 1., 1.],\n",
              "       [1., 1., 1., 1.]])"
            ]
          },
          "metadata": {},
          "execution_count": 92
        }
      ]
    },
    {
      "cell_type": "code",
      "source": [
        "array = np.arange(4, 20, 2) # 4 dan 20gacha massivga 2 qadam bilan np aray xosil qiladi\n",
        "array"
      ],
      "metadata": {
        "id": "4OoCrhyfb28a",
        "outputId": "9a7208bb-2e2c-4fa2-c943-5771993217e7",
        "colab": {
          "base_uri": "https://localhost:8080/"
        }
      },
      "execution_count": 93,
      "outputs": [
        {
          "output_type": "execute_result",
          "data": {
            "text/plain": [
              "array([ 4,  6,  8, 10, 12, 14, 16, 18])"
            ]
          },
          "metadata": {},
          "execution_count": 93
        }
      ]
    },
    {
      "cell_type": "code",
      "source": [
        "array = np.arange(20) # 0dan 20gacha qiymatlar qadam bilan\n",
        "array"
      ],
      "metadata": {
        "id": "yC8p2Zkjb3Ev",
        "outputId": "5658955f-8f60-4ad2-fee1-fdca0254e03b",
        "colab": {
          "base_uri": "https://localhost:8080/"
        }
      },
      "execution_count": 95,
      "outputs": [
        {
          "output_type": "execute_result",
          "data": {
            "text/plain": [
              "array([ 0,  1,  2,  3,  4,  5,  6,  7,  8,  9, 10, 11, 12, 13, 14, 15, 16,\n",
              "       17, 18, 19])"
            ]
          },
          "metadata": {},
          "execution_count": 95
        }
      ]
    },
    {
      "cell_type": "code",
      "source": [],
      "metadata": {
        "id": "gNTEWEr_gKAn"
      },
      "execution_count": null,
      "outputs": []
    }
  ]
}