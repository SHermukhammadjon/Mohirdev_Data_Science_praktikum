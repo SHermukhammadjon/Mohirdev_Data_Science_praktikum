{
  "cells": [
    {
      "cell_type": "markdown",
      "metadata": {
        "id": "view-in-github",
        "colab_type": "text"
      },
      "source": [
        "<a href=\"https://colab.research.google.com/github/SHermukhammadjon/Mohirdev_Data_Science_praktikum/blob/main/NumPy_finaly_practice8-25.ipynb\" target=\"_parent\"><img src=\"https://colab.research.google.com/assets/colab-badge.svg\" alt=\"Open In Colab\"/></a>"
      ]
    },
    {
      "cell_type": "markdown",
      "id": "bf79c78b",
      "metadata": {
        "id": "bf79c78b"
      },
      "source": [
        "# NumPy kutubxonasiga doir bilimlaringizni mustaxkamlash uchun mashqlar\n",
        "\n",
        "Hurmatli o'quvchi, bilimingizni yanada mustaxkamlashingiz va chuqurroq ko'nikmalarga ega bo'lishingiz uchun sizga topshiriqlar tayyorladik. Sizga yengillik yaratish maqsadida topshiriqni aynan qanday funksiyalar yordamida amalga oshirishingiz mumkin ekanini \n",
        " `💡Ishora` ko'rinishida yozdik!"
      ]
    },
    {
      "cell_type": "markdown",
      "id": "017db353",
      "metadata": {
        "id": "017db353"
      },
      "source": [
        "#### 1. NumPy kutubxonasini `np` nomi ostida yuklang va numpy kutubxonasini chop eting.\n",
        "\n",
        "versiya va konfiguratsiyani tekshiring.\n"
      ]
    },
    {
      "cell_type": "markdown",
      "source": [
        "`💡Ishora` import … as` and `np.__version__, np.show_config"
      ],
      "metadata": {
        "id": "e28779fe"
      },
      "id": "e28779fe"
    },
    {
      "cell_type": "code",
      "source": [
        "import numpy as np\n",
        "np"
      ],
      "metadata": {
        "id": "_pCbn1ieI3u9",
        "outputId": "6b94c937-97f3-4776-aef7-b5c491d8de3a",
        "colab": {
          "base_uri": "https://localhost:8080/"
        }
      },
      "id": "_pCbn1ieI3u9",
      "execution_count": 22,
      "outputs": [
        {
          "output_type": "execute_result",
          "data": {
            "text/plain": [
              "<module 'numpy' from '/usr/local/lib/python3.8/dist-packages/numpy/__init__.py'>"
            ]
          },
          "metadata": {},
          "execution_count": 22
        }
      ]
    },
    {
      "cell_type": "code",
      "source": [
        "np.__version__"
      ],
      "metadata": {
        "id": "YpiI29w35Dx7",
        "outputId": "8e5d62db-7d5b-4691-ac51-a6de07226609",
        "colab": {
          "base_uri": "https://localhost:8080/",
          "height": 35
        }
      },
      "id": "YpiI29w35Dx7",
      "execution_count": 23,
      "outputs": [
        {
          "output_type": "execute_result",
          "data": {
            "text/plain": [
              "'1.22.4'"
            ],
            "application/vnd.google.colaboratory.intrinsic+json": {
              "type": "string"
            }
          },
          "metadata": {},
          "execution_count": 23
        }
      ]
    },
    {
      "cell_type": "code",
      "source": [
        "np.show_config()"
      ],
      "metadata": {
        "id": "q3RMkxsM6XsK",
        "outputId": "2b4ed9d3-4cff-49a6-bb0c-22c393cd397d",
        "colab": {
          "base_uri": "https://localhost:8080/"
        }
      },
      "id": "q3RMkxsM6XsK",
      "execution_count": 24,
      "outputs": [
        {
          "output_type": "stream",
          "name": "stdout",
          "text": [
            "openblas64__info:\n",
            "    libraries = ['openblas64_', 'openblas64_']\n",
            "    library_dirs = ['/usr/local/lib']\n",
            "    language = c\n",
            "    define_macros = [('HAVE_CBLAS', None), ('BLAS_SYMBOL_SUFFIX', '64_'), ('HAVE_BLAS_ILP64', None)]\n",
            "    runtime_library_dirs = ['/usr/local/lib']\n",
            "blas_ilp64_opt_info:\n",
            "    libraries = ['openblas64_', 'openblas64_']\n",
            "    library_dirs = ['/usr/local/lib']\n",
            "    language = c\n",
            "    define_macros = [('HAVE_CBLAS', None), ('BLAS_SYMBOL_SUFFIX', '64_'), ('HAVE_BLAS_ILP64', None)]\n",
            "    runtime_library_dirs = ['/usr/local/lib']\n",
            "openblas64__lapack_info:\n",
            "    libraries = ['openblas64_', 'openblas64_']\n",
            "    library_dirs = ['/usr/local/lib']\n",
            "    language = c\n",
            "    define_macros = [('HAVE_CBLAS', None), ('BLAS_SYMBOL_SUFFIX', '64_'), ('HAVE_BLAS_ILP64', None), ('HAVE_LAPACKE', None)]\n",
            "    runtime_library_dirs = ['/usr/local/lib']\n",
            "lapack_ilp64_opt_info:\n",
            "    libraries = ['openblas64_', 'openblas64_']\n",
            "    library_dirs = ['/usr/local/lib']\n",
            "    language = c\n",
            "    define_macros = [('HAVE_CBLAS', None), ('BLAS_SYMBOL_SUFFIX', '64_'), ('HAVE_BLAS_ILP64', None), ('HAVE_LAPACKE', None)]\n",
            "    runtime_library_dirs = ['/usr/local/lib']\n",
            "Supported SIMD extensions in this NumPy install:\n",
            "    baseline = SSE,SSE2,SSE3\n",
            "    found = SSSE3,SSE41,POPCNT,SSE42,AVX,F16C,FMA3,AVX2\n",
            "    not found = AVX512F,AVX512CD,AVX512_KNL,AVX512_KNM,AVX512_SKX,AVX512_CLX,AVX512_CNL,AVX512_ICL\n"
          ]
        }
      ]
    },
    {
      "cell_type": "markdown",
      "id": "46950f4f",
      "metadata": {
        "id": "46950f4f"
      },
      "source": [
        "#### 2. Raqamli qiymatlar ro'yxatini bir o'lchovli NumPy massiviga aylantiring! "
      ]
    },
    {
      "cell_type": "markdown",
      "source": [
        "`💡Ishora` numpy.array"
      ],
      "metadata": {
        "id": "9b0e875f"
      },
      "id": "9b0e875f"
    },
    {
      "cell_type": "code",
      "source": [
        "arr1 = np.array([1, 2, 3, 4, 5, 6, 7])\n",
        "arr1"
      ],
      "metadata": {
        "id": "dgnzjeT3JCi4",
        "outputId": "971e3ee6-72ca-41a1-d44d-f919e46eb69a",
        "colab": {
          "base_uri": "https://localhost:8080/"
        }
      },
      "id": "dgnzjeT3JCi4",
      "execution_count": 25,
      "outputs": [
        {
          "output_type": "execute_result",
          "data": {
            "text/plain": [
              "array([1, 2, 3, 4, 5, 6, 7])"
            ]
          },
          "metadata": {},
          "execution_count": 25
        }
      ]
    },
    {
      "cell_type": "markdown",
      "id": "e3c20b3d",
      "metadata": {
        "id": "e3c20b3d"
      },
      "source": [
        "#### 3. Qiymatlari noldan iborat bo'lgan to'qqiz o'lchovli massiv yarating.\n",
        "\n"
      ]
    },
    {
      "cell_type": "markdown",
      "source": [
        "`💡Ishora` np.zeros"
      ],
      "metadata": {
        "id": "96d0b63e"
      },
      "id": "96d0b63e"
    },
    {
      "cell_type": "code",
      "source": [
        "arr2 = np.zeros((9, 1, 1, 1, 1, 1, 1, 1, 1))\n",
        "arr2"
      ],
      "metadata": {
        "id": "hIglcygO66Ay",
        "outputId": "c88a9510-1ea8-4ccb-c376-a561ac49a7d9",
        "colab": {
          "base_uri": "https://localhost:8080/"
        }
      },
      "id": "hIglcygO66Ay",
      "execution_count": 68,
      "outputs": [
        {
          "output_type": "execute_result",
          "data": {
            "text/plain": [
              "array([[[[[[[[[0.]]]]]]]],\n",
              "\n",
              "\n",
              "\n",
              "\n",
              "\n",
              "\n",
              "\n",
              "       [[[[[[[[0.]]]]]]]],\n",
              "\n",
              "\n",
              "\n",
              "\n",
              "\n",
              "\n",
              "\n",
              "       [[[[[[[[0.]]]]]]]],\n",
              "\n",
              "\n",
              "\n",
              "\n",
              "\n",
              "\n",
              "\n",
              "       [[[[[[[[0.]]]]]]]],\n",
              "\n",
              "\n",
              "\n",
              "\n",
              "\n",
              "\n",
              "\n",
              "       [[[[[[[[0.]]]]]]]],\n",
              "\n",
              "\n",
              "\n",
              "\n",
              "\n",
              "\n",
              "\n",
              "       [[[[[[[[0.]]]]]]]],\n",
              "\n",
              "\n",
              "\n",
              "\n",
              "\n",
              "\n",
              "\n",
              "       [[[[[[[[0.]]]]]]]],\n",
              "\n",
              "\n",
              "\n",
              "\n",
              "\n",
              "\n",
              "\n",
              "       [[[[[[[[0.]]]]]]]],\n",
              "\n",
              "\n",
              "\n",
              "\n",
              "\n",
              "\n",
              "\n",
              "       [[[[[[[[0.]]]]]]]]])"
            ]
          },
          "metadata": {},
          "execution_count": 68
        }
      ]
    },
    {
      "cell_type": "code",
      "source": [
        "arr2.ndim"
      ],
      "metadata": {
        "id": "HHoBO8a07K0z",
        "outputId": "6f14293c-30f2-4c87-d31b-9d07aa4bcc39",
        "colab": {
          "base_uri": "https://localhost:8080/"
        }
      },
      "id": "HHoBO8a07K0z",
      "execution_count": 69,
      "outputs": [
        {
          "output_type": "execute_result",
          "data": {
            "text/plain": [
              "9"
            ]
          },
          "metadata": {},
          "execution_count": 69
        }
      ]
    },
    {
      "cell_type": "code",
      "source": [
        "arr2.shape"
      ],
      "metadata": {
        "id": "-yVeVWcP7zfd",
        "outputId": "35b4c9ee-fc9e-4578-b18c-2c3657b5f66f",
        "colab": {
          "base_uri": "https://localhost:8080/"
        }
      },
      "id": "-yVeVWcP7zfd",
      "execution_count": 70,
      "outputs": [
        {
          "output_type": "execute_result",
          "data": {
            "text/plain": [
              "(9, 1, 1, 1, 1, 1, 1, 1, 1)"
            ]
          },
          "metadata": {},
          "execution_count": 70
        }
      ]
    },
    {
      "cell_type": "markdown",
      "id": "b15a879f",
      "metadata": {
        "id": "b15a879f"
      },
      "source": [
        "#### 4. Massiv yarating va uning xotira hajmini toping.\n",
        "\n"
      ]
    },
    {
      "cell_type": "markdown",
      "source": [
        "`💡Ishora` size, itemsize"
      ],
      "metadata": {
        "id": "32f9025c"
      },
      "id": "32f9025c"
    },
    {
      "cell_type": "code",
      "source": [
        "arr3 = np.arange(20)\n",
        "arr3"
      ],
      "metadata": {
        "id": "MZxcJM_oJOTs",
        "outputId": "7558e2bd-5738-4f03-803b-d297f4586cb2",
        "colab": {
          "base_uri": "https://localhost:8080/"
        }
      },
      "id": "MZxcJM_oJOTs",
      "execution_count": 81,
      "outputs": [
        {
          "output_type": "execute_result",
          "data": {
            "text/plain": [
              "array([ 0,  1,  2,  3,  4,  5,  6,  7,  8,  9, 10, 11, 12, 13, 14, 15, 16,\n",
              "       17, 18,  3])"
            ]
          },
          "metadata": {},
          "execution_count": 81
        }
      ]
    },
    {
      "cell_type": "code",
      "source": [
        "arr3.size"
      ],
      "metadata": {
        "id": "2QuHMhhr-24v",
        "outputId": "909456d9-1fd3-4ab8-b1e2-35c5cf409b6e",
        "colab": {
          "base_uri": "https://localhost:8080/"
        }
      },
      "id": "2QuHMhhr-24v",
      "execution_count": 79,
      "outputs": [
        {
          "output_type": "execute_result",
          "data": {
            "text/plain": [
              "20"
            ]
          },
          "metadata": {},
          "execution_count": 79
        }
      ]
    },
    {
      "cell_type": "code",
      "source": [
        "arr3.itemsize"
      ],
      "metadata": {
        "id": "_O0n8jFE-3ZA",
        "outputId": "d85db98b-1682-4fb2-a649-9e7605622dc7",
        "colab": {
          "base_uri": "https://localhost:8080/"
        }
      },
      "id": "_O0n8jFE-3ZA",
      "execution_count": 80,
      "outputs": [
        {
          "output_type": "execute_result",
          "data": {
            "text/plain": [
              "8"
            ]
          },
          "metadata": {},
          "execution_count": 80
        }
      ]
    },
    {
      "cell_type": "code",
      "source": [
        "a = np.array(\"12345\")\n",
        "a.itemsize"
      ],
      "metadata": {
        "id": "7C36tDZK_quy",
        "outputId": "696fe4f3-9c78-42c5-bff2-a8094e681606",
        "colab": {
          "base_uri": "https://localhost:8080/"
        }
      },
      "id": "7C36tDZK_quy",
      "execution_count": 93,
      "outputs": [
        {
          "output_type": "execute_result",
          "data": {
            "text/plain": [
              "20"
            ]
          },
          "metadata": {},
          "execution_count": 93
        }
      ]
    },
    {
      "cell_type": "code",
      "source": [],
      "metadata": {
        "id": "uUYuHhIeAZLe"
      },
      "id": "uUYuHhIeAZLe",
      "execution_count": null,
      "outputs": []
    },
    {
      "cell_type": "markdown",
      "id": "0a708990",
      "metadata": {
        "id": "0a708990"
      },
      "source": [
        "#### 5. NumPy kutubxonasidagi add funksiyasi hujjatlarini buyruq satridan qanday olishi mumkin? \n"
      ]
    },
    {
      "cell_type": "markdown",
      "source": [
        "`💡Ishora` np.info"
      ],
      "metadata": {
        "id": "d254eea5"
      },
      "id": "d254eea5"
    },
    {
      "cell_type": "code",
      "source": [
        "np.info(np.add)"
      ],
      "metadata": {
        "id": "m7nA_vYsJVUi",
        "outputId": "ea60c04f-aa07-4b79-e3d6-9dc7aabd526f",
        "colab": {
          "base_uri": "https://localhost:8080/"
        }
      },
      "id": "m7nA_vYsJVUi",
      "execution_count": 100,
      "outputs": [
        {
          "output_type": "stream",
          "name": "stdout",
          "text": [
            "add(x1, x2, /, out=None, *, where=True, casting='same_kind', order='K', dtype=None, subok=True[, signature, extobj])\n",
            "\n",
            "Add arguments element-wise.\n",
            "\n",
            "Parameters\n",
            "----------\n",
            "x1, x2 : array_like\n",
            "    The arrays to be added.\n",
            "    If ``x1.shape != x2.shape``, they must be broadcastable to a common\n",
            "    shape (which becomes the shape of the output).\n",
            "out : ndarray, None, or tuple of ndarray and None, optional\n",
            "    A location into which the result is stored. If provided, it must have\n",
            "    a shape that the inputs broadcast to. If not provided or None,\n",
            "    a freshly-allocated array is returned. A tuple (possible only as a\n",
            "    keyword argument) must have length equal to the number of outputs.\n",
            "where : array_like, optional\n",
            "    This condition is broadcast over the input. At locations where the\n",
            "    condition is True, the `out` array will be set to the ufunc result.\n",
            "    Elsewhere, the `out` array will retain its original value.\n",
            "    Note that if an uninitialized `out` array is created via the default\n",
            "    ``out=None``, locations within it where the condition is False will\n",
            "    remain uninitialized.\n",
            "**kwargs\n",
            "    For other keyword-only arguments, see the\n",
            "    :ref:`ufunc docs <ufuncs.kwargs>`.\n",
            "\n",
            "Returns\n",
            "-------\n",
            "add : ndarray or scalar\n",
            "    The sum of `x1` and `x2`, element-wise.\n",
            "    This is a scalar if both `x1` and `x2` are scalars.\n",
            "\n",
            "Notes\n",
            "-----\n",
            "Equivalent to `x1` + `x2` in terms of array broadcasting.\n",
            "\n",
            "Examples\n",
            "--------\n",
            ">>> np.add(1.0, 4.0)\n",
            "5.0\n",
            ">>> x1 = np.arange(9.0).reshape((3, 3))\n",
            ">>> x2 = np.arange(3.0)\n",
            ">>> np.add(x1, x2)\n",
            "array([[  0.,   2.,   4.],\n",
            "       [  3.,   5.,   7.],\n",
            "       [  6.,   8.,  10.]])\n",
            "\n",
            "The ``+`` operator can be used as a shorthand for ``np.add`` on ndarrays.\n",
            "\n",
            ">>> x1 = np.arange(9.0).reshape((3, 3))\n",
            ">>> x2 = np.arange(3.0)\n",
            ">>> x1 + x2\n",
            "array([[ 0.,  2.,  4.],\n",
            "       [ 3.,  5.,  7.],\n",
            "       [ 6.,  8., 10.]])\n"
          ]
        }
      ]
    },
    {
      "cell_type": "markdown",
      "id": "0b16cd77",
      "metadata": {
        "id": "0b16cd77"
      },
      "source": [
        "#### 6. Shunday vekor yaratingki u o'n ikki o'lchamda va qiymatlari noldan iborat bo'lsin, lekin vektorning oltinchi qiymati 1 ga teng bo'lsin.\n",
        "\n"
      ]
    },
    {
      "cell_type": "markdown",
      "source": [
        "`💡Ishora` array[12]"
      ],
      "metadata": {
        "id": "05223560"
      },
      "id": "05223560"
    },
    {
      "cell_type": "code",
      "source": [
        "arr4 = np.zeros((12, 1, 1, 1, 1, 1, 1, 1, 1, 1, 3, 1))\n",
        "arr4[-1] = 1\n",
        "arr4"
      ],
      "metadata": {
        "id": "UJfYDNQoJc7M",
        "outputId": "a7551d6d-78ca-4d0b-ae2a-a70487650902",
        "colab": {
          "base_uri": "https://localhost:8080/"
        }
      },
      "id": "UJfYDNQoJc7M",
      "execution_count": 116,
      "outputs": [
        {
          "output_type": "execute_result",
          "data": {
            "text/plain": [
              "array([[[[[[[[[[[[0.],\n",
              "                 [0.],\n",
              "                 [0.]]]]]]]]]]],\n",
              "\n",
              "\n",
              "\n",
              "\n",
              "\n",
              "\n",
              "\n",
              "\n",
              "\n",
              "\n",
              "       [[[[[[[[[[[0.],\n",
              "                 [0.],\n",
              "                 [0.]]]]]]]]]]],\n",
              "\n",
              "\n",
              "\n",
              "\n",
              "\n",
              "\n",
              "\n",
              "\n",
              "\n",
              "\n",
              "       [[[[[[[[[[[0.],\n",
              "                 [0.],\n",
              "                 [0.]]]]]]]]]]],\n",
              "\n",
              "\n",
              "\n",
              "\n",
              "\n",
              "\n",
              "\n",
              "\n",
              "\n",
              "\n",
              "       [[[[[[[[[[[0.],\n",
              "                 [0.],\n",
              "                 [0.]]]]]]]]]]],\n",
              "\n",
              "\n",
              "\n",
              "\n",
              "\n",
              "\n",
              "\n",
              "\n",
              "\n",
              "\n",
              "       [[[[[[[[[[[0.],\n",
              "                 [0.],\n",
              "                 [0.]]]]]]]]]]],\n",
              "\n",
              "\n",
              "\n",
              "\n",
              "\n",
              "\n",
              "\n",
              "\n",
              "\n",
              "\n",
              "       [[[[[[[[[[[0.],\n",
              "                 [0.],\n",
              "                 [0.]]]]]]]]]]],\n",
              "\n",
              "\n",
              "\n",
              "\n",
              "\n",
              "\n",
              "\n",
              "\n",
              "\n",
              "\n",
              "       [[[[[[[[[[[0.],\n",
              "                 [0.],\n",
              "                 [0.]]]]]]]]]]],\n",
              "\n",
              "\n",
              "\n",
              "\n",
              "\n",
              "\n",
              "\n",
              "\n",
              "\n",
              "\n",
              "       [[[[[[[[[[[0.],\n",
              "                 [0.],\n",
              "                 [0.]]]]]]]]]]],\n",
              "\n",
              "\n",
              "\n",
              "\n",
              "\n",
              "\n",
              "\n",
              "\n",
              "\n",
              "\n",
              "       [[[[[[[[[[[0.],\n",
              "                 [0.],\n",
              "                 [0.]]]]]]]]]]],\n",
              "\n",
              "\n",
              "\n",
              "\n",
              "\n",
              "\n",
              "\n",
              "\n",
              "\n",
              "\n",
              "       [[[[[[[[[[[0.],\n",
              "                 [0.],\n",
              "                 [0.]]]]]]]]]]],\n",
              "\n",
              "\n",
              "\n",
              "\n",
              "\n",
              "\n",
              "\n",
              "\n",
              "\n",
              "\n",
              "       [[[[[[[[[[[0.],\n",
              "                 [0.],\n",
              "                 [0.]]]]]]]]]]],\n",
              "\n",
              "\n",
              "\n",
              "\n",
              "\n",
              "\n",
              "\n",
              "\n",
              "\n",
              "\n",
              "       [[[[[[[[[[[1.],\n",
              "                 [1.],\n",
              "                 [1.]]]]]]]]]]]])"
            ]
          },
          "metadata": {},
          "execution_count": 116
        }
      ]
    },
    {
      "cell_type": "code",
      "source": [
        "arr4.ndim "
      ],
      "metadata": {
        "id": "4eKA0L0KDQgS",
        "outputId": "a81df2e2-63b3-49aa-8a92-50e923568536",
        "colab": {
          "base_uri": "https://localhost:8080/"
        }
      },
      "id": "4eKA0L0KDQgS",
      "execution_count": 112,
      "outputs": [
        {
          "output_type": "execute_result",
          "data": {
            "text/plain": [
              "12"
            ]
          },
          "metadata": {},
          "execution_count": 112
        }
      ]
    },
    {
      "cell_type": "code",
      "source": [
        "arr4[11]"
      ],
      "metadata": {
        "id": "dCe_pP8REiWK",
        "outputId": "13c4e480-a40f-40ec-e84a-5421561eca5a",
        "colab": {
          "base_uri": "https://localhost:8080/"
        }
      },
      "id": "dCe_pP8REiWK",
      "execution_count": 121,
      "outputs": [
        {
          "output_type": "execute_result",
          "data": {
            "text/plain": [
              "array([[[[[[[[[[[1.],\n",
              "                [1.],\n",
              "                [1.]]]]]]]]]]])"
            ]
          },
          "metadata": {},
          "execution_count": 121
        }
      ]
    },
    {
      "cell_type": "code",
      "source": [
        "arr4[11][0][0][0][0][0][0][0][0][0][0][0]"
      ],
      "metadata": {
        "id": "Wf2jHLPnDQmQ",
        "outputId": "547ffb8a-4154-4284-d97d-579b55cfdc85",
        "colab": {
          "base_uri": "https://localhost:8080/"
        }
      },
      "id": "Wf2jHLPnDQmQ",
      "execution_count": 122,
      "outputs": [
        {
          "output_type": "execute_result",
          "data": {
            "text/plain": [
              "1.0"
            ]
          },
          "metadata": {},
          "execution_count": 122
        }
      ]
    },
    {
      "cell_type": "markdown",
      "id": "782d4c77",
      "metadata": {
        "id": "782d4c77"
      },
      "source": [
        "#### 7. Qiymatlari 20 dan 59 gacha bo'lgan vektor yarating.\n",
        "\n"
      ]
    },
    {
      "cell_type": "markdown",
      "source": [
        "`💡Ishora` arange"
      ],
      "metadata": {
        "id": "7250d114"
      },
      "id": "7250d114"
    },
    {
      "cell_type": "code",
      "source": [
        "arr5 = np.arange(20, 59)\n",
        "arr5"
      ],
      "metadata": {
        "id": "fSaWkGakJhwz",
        "outputId": "bc8537a5-a4e1-477d-fb10-33f8967464d4",
        "colab": {
          "base_uri": "https://localhost:8080/"
        }
      },
      "id": "fSaWkGakJhwz",
      "execution_count": 123,
      "outputs": [
        {
          "output_type": "execute_result",
          "data": {
            "text/plain": [
              "array([20, 21, 22, 23, 24, 25, 26, 27, 28, 29, 30, 31, 32, 33, 34, 35, 36,\n",
              "       37, 38, 39, 40, 41, 42, 43, 44, 45, 46, 47, 48, 49, 50, 51, 52, 53,\n",
              "       54, 55, 56, 57, 58])"
            ]
          },
          "metadata": {},
          "execution_count": 123
        }
      ]
    },
    {
      "cell_type": "markdown",
      "id": "48d48f01",
      "metadata": {
        "id": "48d48f01"
      },
      "source": [
        "#### 8. Vektor yarating va uni teskari o'zgartiring \n",
        "(birinchi element oxirgisi bo'lsin)\n",
        "\n"
      ]
    },
    {
      "cell_type": "markdown",
      "source": [
        "`💡Ishora` array[::-1]"
      ],
      "metadata": {
        "id": "fb702ae0"
      },
      "id": "fb702ae0"
    },
    {
      "cell_type": "code",
      "source": [
        "arr6 = np.arange(20, 59)\n",
        "arr6"
      ],
      "metadata": {
        "id": "GCP6vp_WJrON",
        "outputId": "dcfcf6d5-35e6-46d5-c5e9-625b671c6b60",
        "colab": {
          "base_uri": "https://localhost:8080/"
        }
      },
      "id": "GCP6vp_WJrON",
      "execution_count": 124,
      "outputs": [
        {
          "output_type": "execute_result",
          "data": {
            "text/plain": [
              "array([20, 21, 22, 23, 24, 25, 26, 27, 28, 29, 30, 31, 32, 33, 34, 35, 36,\n",
              "       37, 38, 39, 40, 41, 42, 43, 44, 45, 46, 47, 48, 49, 50, 51, 52, 53,\n",
              "       54, 55, 56, 57, 58])"
            ]
          },
          "metadata": {},
          "execution_count": 124
        }
      ]
    },
    {
      "cell_type": "code",
      "source": [
        "arr6 = arr6[::-1]\n",
        "arr6"
      ],
      "metadata": {
        "id": "8KnCv6avE7md",
        "outputId": "11f48926-0a0e-46c4-b691-0064ed75f7d5",
        "colab": {
          "base_uri": "https://localhost:8080/"
        }
      },
      "id": "8KnCv6avE7md",
      "execution_count": 132,
      "outputs": [
        {
          "output_type": "execute_result",
          "data": {
            "text/plain": [
              "array([20, 21, 22, 23, 24, 25, 26, 27, 28, 29, 30, 31, 32, 33, 34, 35, 36,\n",
              "       37, 38, 39, 40, 41, 42, 43, 44, 45, 46, 47, 48, 49, 50, 51, 52, 53,\n",
              "       54, 55, 56, 57, 58])"
            ]
          },
          "metadata": {},
          "execution_count": 132
        }
      ]
    },
    {
      "cell_type": "markdown",
      "id": "4fa39382",
      "metadata": {
        "id": "4fa39382"
      },
      "source": [
        "#### 9. 12 dan 20 gacha bo'lgan qiymatlarga ega 3x3 matritsa yarating.\n"
      ]
    },
    {
      "cell_type": "markdown",
      "source": [
        "`💡Ishora` reshape"
      ],
      "metadata": {
        "id": "97e6be92"
      },
      "id": "97e6be92"
    },
    {
      "cell_type": "code",
      "source": [
        "arr7 = np.arange(12, 21)\n",
        "arr7.reshape(3, 3)"
      ],
      "metadata": {
        "id": "Ve7gEGjuJxxw",
        "outputId": "82d78378-c931-4363-fe9c-c0e771a766d3",
        "colab": {
          "base_uri": "https://localhost:8080/"
        }
      },
      "id": "Ve7gEGjuJxxw",
      "execution_count": 146,
      "outputs": [
        {
          "output_type": "execute_result",
          "data": {
            "text/plain": [
              "array([[12, 13, 14],\n",
              "       [15, 16, 17],\n",
              "       [18, 19, 20]])"
            ]
          },
          "metadata": {},
          "execution_count": 146
        }
      ]
    },
    {
      "cell_type": "markdown",
      "id": "da64551a",
      "metadata": {
        "id": "da64551a"
      },
      "source": [
        "#### 10. Quyidagi matritsadan foydalanib nolga teng bo'lmagan elementlarning indekslarini toping.\n",
        "[3, 7, 0, 0, 9, 0] \n",
        "\n",
        "\n",
        "\n"
      ]
    },
    {
      "cell_type": "markdown",
      "source": [
        "`💡Ishora` np.nonzero"
      ],
      "metadata": {
        "id": "322b2b68"
      },
      "id": "322b2b68"
    },
    {
      "cell_type": "code",
      "source": [
        "arr8 = np.array([3, 7, 0, 0, 9, 0])\n",
        "arr8.nonzero()"
      ],
      "metadata": {
        "id": "fNIuSyBaJ4OP",
        "outputId": "09b69ec3-ad21-4a3e-b64c-8c15d5569c9d",
        "colab": {
          "base_uri": "https://localhost:8080/"
        }
      },
      "id": "fNIuSyBaJ4OP",
      "execution_count": 148,
      "outputs": [
        {
          "output_type": "execute_result",
          "data": {
            "text/plain": [
              "(array([0, 1, 4]),)"
            ]
          },
          "metadata": {},
          "execution_count": 148
        }
      ]
    },
    {
      "cell_type": "markdown",
      "id": "f89d9c9e",
      "metadata": {
        "id": "f89d9c9e"
      },
      "source": [
        "#### 11. Tasodifiy qiymatlar bilan 2x2x2 o'lchovidagi massiv yarating.\n"
      ]
    },
    {
      "cell_type": "markdown",
      "source": [
        "`💡Ishora` np.random.random"
      ],
      "metadata": {
        "id": "5717e1c1"
      },
      "id": "5717e1c1"
    },
    {
      "cell_type": "code",
      "source": [
        "arr9 = np.random.random((2, 2, 2))\n",
        "arr9"
      ],
      "metadata": {
        "id": "bHloeqHOKuiX",
        "outputId": "ac9faea6-e5ef-40a7-b08b-ee499e7830f3",
        "colab": {
          "base_uri": "https://localhost:8080/"
        }
      },
      "id": "bHloeqHOKuiX",
      "execution_count": 150,
      "outputs": [
        {
          "output_type": "execute_result",
          "data": {
            "text/plain": [
              "array([[[0.98092039, 0.83948824],\n",
              "        [0.57810331, 0.58956864]],\n",
              "\n",
              "       [[0.44706477, 0.17486051],\n",
              "        [0.91325019, 0.27353199]]])"
            ]
          },
          "metadata": {},
          "execution_count": 150
        }
      ]
    },
    {
      "cell_type": "code",
      "source": [
        "arr9.ndim"
      ],
      "metadata": {
        "id": "padZTt7CHOXc",
        "outputId": "eaac4083-bc71-4451-b016-104a3f511c9c",
        "colab": {
          "base_uri": "https://localhost:8080/"
        }
      },
      "id": "padZTt7CHOXc",
      "execution_count": 151,
      "outputs": [
        {
          "output_type": "execute_result",
          "data": {
            "text/plain": [
              "3"
            ]
          },
          "metadata": {},
          "execution_count": 151
        }
      ]
    },
    {
      "cell_type": "markdown",
      "id": "13c5928c",
      "metadata": {
        "id": "13c5928c"
      },
      "source": [
        "#### 12. Tasodifiy sonlardan tashkil topgan 9X9 o'lchamidagi massiv yarating. So'ng uning eng katta va eng kichik qiymatlarini toping\n"
      ]
    },
    {
      "cell_type": "markdown",
      "source": [
        "`💡Ishora` min, max"
      ],
      "metadata": {
        "id": "0ede4d26"
      },
      "id": "0ede4d26"
    },
    {
      "cell_type": "code",
      "source": [
        "arr10 = np.random.random((9, 9))\n",
        "arr10"
      ],
      "metadata": {
        "id": "OJiVa5K9LJyb",
        "outputId": "04f1f9cb-67a2-48ea-f7bd-73b2489fc62a",
        "colab": {
          "base_uri": "https://localhost:8080/"
        }
      },
      "id": "OJiVa5K9LJyb",
      "execution_count": 152,
      "outputs": [
        {
          "output_type": "execute_result",
          "data": {
            "text/plain": [
              "array([[0.90679453, 0.13487861, 0.47527604, 0.48774652, 0.25889395,\n",
              "        0.21434383, 0.80288018, 0.26160123, 0.30175507],\n",
              "       [0.79771458, 0.04346707, 0.33231274, 0.87256274, 0.10265581,\n",
              "        0.75875048, 0.3182462 , 0.69687175, 0.1579175 ],\n",
              "       [0.71060292, 0.65914249, 0.37144406, 0.46969669, 0.1896354 ,\n",
              "        0.81514861, 0.27817292, 0.50388874, 0.15616507],\n",
              "       [0.78839903, 0.6191495 , 0.24704499, 0.27765187, 0.82645446,\n",
              "        0.87827275, 0.04198713, 0.6298117 , 0.3197005 ],\n",
              "       [0.13044357, 0.81198511, 0.00993993, 0.44806241, 0.33978346,\n",
              "        0.66613198, 0.22452503, 0.89625337, 0.1131663 ],\n",
              "       [0.65273041, 0.27816594, 0.15951598, 0.96509284, 0.19589063,\n",
              "        0.06448047, 0.67523951, 0.41361391, 0.3579297 ],\n",
              "       [0.67357761, 0.03833371, 0.21110902, 0.89203949, 0.58338599,\n",
              "        0.99305793, 0.42045011, 0.33996071, 0.04692796],\n",
              "       [0.08133432, 0.13080302, 0.02026745, 0.94298803, 0.46547851,\n",
              "        0.46263897, 0.30891932, 0.36131425, 0.30443698],\n",
              "       [0.2603463 , 0.16320837, 0.60423777, 0.7330182 , 0.61451761,\n",
              "        0.89657762, 0.84748982, 0.47535001, 0.18521864]])"
            ]
          },
          "metadata": {},
          "execution_count": 152
        }
      ]
    },
    {
      "cell_type": "code",
      "source": [
        "arr10.shape"
      ],
      "metadata": {
        "id": "nTGUHwqYHhkN",
        "outputId": "494f0382-3648-46cb-9eaa-71b239046848",
        "colab": {
          "base_uri": "https://localhost:8080/"
        }
      },
      "id": "nTGUHwqYHhkN",
      "execution_count": 155,
      "outputs": [
        {
          "output_type": "execute_result",
          "data": {
            "text/plain": [
              "(9, 9)"
            ]
          },
          "metadata": {},
          "execution_count": 155
        }
      ]
    },
    {
      "cell_type": "code",
      "source": [
        "arr10.min() #The smallest value"
      ],
      "metadata": {
        "id": "sos5OQpKHhn0",
        "outputId": "06f29ee0-8e92-4962-f4f2-04d6347808ea",
        "colab": {
          "base_uri": "https://localhost:8080/"
        }
      },
      "id": "sos5OQpKHhn0",
      "execution_count": 161,
      "outputs": [
        {
          "output_type": "execute_result",
          "data": {
            "text/plain": [
              "0.009939925414455764"
            ]
          },
          "metadata": {},
          "execution_count": 161
        }
      ]
    },
    {
      "cell_type": "code",
      "source": [
        "arr10.max() #The bigest value "
      ],
      "metadata": {
        "id": "ATMLloIOHqav",
        "outputId": "56fe294b-09e3-43fe-d4ac-c8f2ed5c89c6",
        "colab": {
          "base_uri": "https://localhost:8080/"
        }
      },
      "id": "ATMLloIOHqav",
      "execution_count": 160,
      "outputs": [
        {
          "output_type": "execute_result",
          "data": {
            "text/plain": [
              "0.9930579265905426"
            ]
          },
          "metadata": {},
          "execution_count": 160
        }
      ]
    },
    {
      "cell_type": "markdown",
      "id": "3fa2e461",
      "metadata": {
        "id": "3fa2e461"
      },
      "source": [
        "#### 13. Quyidagi misol qanday natija beradi?\n",
        "\n",
        "\n",
        "```python\n",
        "0 * np.nan\n",
        "np.nan == np.nan\n",
        "np.inf > np.nan\n",
        "np.nan - np.nan\n",
        "np.nan in set([np.nan])\n",
        "0.7 == 7 * 0.1\n",
        "```\n"
      ]
    },
    {
      "cell_type": "markdown",
      "source": [
        "`💡Ishora` NaN = not a number, inf = infinity"
      ],
      "metadata": {
        "id": "c0048e59"
      },
      "id": "c0048e59"
    },
    {
      "cell_type": "code",
      "source": [
        "0 * np.nan"
      ],
      "metadata": {
        "id": "Thbqd_RCLf_e",
        "outputId": "683b8c0d-7e6d-46c2-9e44-6083b6620268",
        "colab": {
          "base_uri": "https://localhost:8080/"
        }
      },
      "id": "Thbqd_RCLf_e",
      "execution_count": 163,
      "outputs": [
        {
          "output_type": "execute_result",
          "data": {
            "text/plain": [
              "nan"
            ]
          },
          "metadata": {},
          "execution_count": 163
        }
      ]
    },
    {
      "cell_type": "code",
      "source": [
        "np.nan == np.nan"
      ],
      "metadata": {
        "id": "6eWRamaZJLFj",
        "outputId": "f83d21ea-0f18-4cd2-bd25-6020fef89ca3",
        "colab": {
          "base_uri": "https://localhost:8080/"
        }
      },
      "id": "6eWRamaZJLFj",
      "execution_count": 164,
      "outputs": [
        {
          "output_type": "execute_result",
          "data": {
            "text/plain": [
              "False"
            ]
          },
          "metadata": {},
          "execution_count": 164
        }
      ]
    },
    {
      "cell_type": "code",
      "source": [
        "np.inf > np.nan"
      ],
      "metadata": {
        "id": "u3mr_rewJLJt",
        "outputId": "fcad4c43-9fa7-416b-ae37-587e99ea1c57",
        "colab": {
          "base_uri": "https://localhost:8080/"
        }
      },
      "id": "u3mr_rewJLJt",
      "execution_count": 165,
      "outputs": [
        {
          "output_type": "execute_result",
          "data": {
            "text/plain": [
              "False"
            ]
          },
          "metadata": {},
          "execution_count": 165
        }
      ]
    },
    {
      "cell_type": "code",
      "source": [
        "np.nan - np.nan"
      ],
      "metadata": {
        "id": "AjBlRN2fJcoj",
        "outputId": "c91e584d-3188-4ccc-b75e-ea1f18e76ddc",
        "colab": {
          "base_uri": "https://localhost:8080/"
        }
      },
      "id": "AjBlRN2fJcoj",
      "execution_count": 166,
      "outputs": [
        {
          "output_type": "execute_result",
          "data": {
            "text/plain": [
              "nan"
            ]
          },
          "metadata": {},
          "execution_count": 166
        }
      ]
    },
    {
      "cell_type": "code",
      "source": [
        "np.nan in set([np.nan])"
      ],
      "metadata": {
        "id": "96XnxG46Jcrp",
        "outputId": "5c902bf6-7722-4527-ede1-7d57aedbf7dc",
        "colab": {
          "base_uri": "https://localhost:8080/"
        }
      },
      "id": "96XnxG46Jcrp",
      "execution_count": 171,
      "outputs": [
        {
          "output_type": "execute_result",
          "data": {
            "text/plain": [
              "True"
            ]
          },
          "metadata": {},
          "execution_count": 171
        }
      ]
    },
    {
      "cell_type": "code",
      "source": [
        "0.7 == 7 * 0.1"
      ],
      "metadata": {
        "id": "QzRyKdvzJcv0",
        "outputId": "551ed004-ac1c-4f52-cd8a-c8ae3b96645e",
        "colab": {
          "base_uri": "https://localhost:8080/"
        }
      },
      "id": "QzRyKdvzJcv0",
      "execution_count": 173,
      "outputs": [
        {
          "output_type": "execute_result",
          "data": {
            "text/plain": [
              "False"
            ]
          },
          "metadata": {},
          "execution_count": 173
        }
      ]
    },
    {
      "cell_type": "code",
      "source": [
        "7 * 0.1"
      ],
      "metadata": {
        "id": "fVRXpvaLKFNi",
        "outputId": "52560c1f-63bf-420a-b56e-1a3150603b33",
        "colab": {
          "base_uri": "https://localhost:8080/"
        }
      },
      "id": "fVRXpvaLKFNi",
      "execution_count": 175,
      "outputs": [
        {
          "output_type": "execute_result",
          "data": {
            "text/plain": [
              "0.7000000000000001"
            ]
          },
          "metadata": {},
          "execution_count": 175
        }
      ]
    },
    {
      "cell_type": "markdown",
      "id": "73f7a549",
      "metadata": {
        "id": "73f7a549"
      },
      "source": [
        "#### 14. O'lchamlari 6x3 va 3x4 bo'lgan martitsa yarating, so'ng ularning  ko'paytmasini hisoblang.\n",
        "\n"
      ]
    },
    {
      "cell_type": "markdown",
      "source": [
        "`💡Ishora` np.dot` or `np.ones"
      ],
      "metadata": {
        "id": "351ff928"
      },
      "id": "351ff928"
    },
    {
      "cell_type": "code",
      "source": [
        "arr11 = np.ones([6, 3])\n",
        "arr11"
      ],
      "metadata": {
        "id": "e_5QUFcPLtVX",
        "outputId": "dfc36ef0-4403-4b23-9272-5f9489772318",
        "colab": {
          "base_uri": "https://localhost:8080/"
        }
      },
      "id": "e_5QUFcPLtVX",
      "execution_count": 177,
      "outputs": [
        {
          "output_type": "execute_result",
          "data": {
            "text/plain": [
              "array([[1., 1., 1.],\n",
              "       [1., 1., 1.],\n",
              "       [1., 1., 1.],\n",
              "       [1., 1., 1.],\n",
              "       [1., 1., 1.],\n",
              "       [1., 1., 1.]])"
            ]
          },
          "metadata": {},
          "execution_count": 177
        }
      ]
    },
    {
      "cell_type": "code",
      "source": [
        "arr12 = np.ones([3, 4])\n",
        "arr12 "
      ],
      "metadata": {
        "id": "zA2lGtOiKgAU",
        "outputId": "9fc5a248-a36b-4456-95d7-db000d6120ee",
        "colab": {
          "base_uri": "https://localhost:8080/"
        }
      },
      "id": "zA2lGtOiKgAU",
      "execution_count": 178,
      "outputs": [
        {
          "output_type": "execute_result",
          "data": {
            "text/plain": [
              "array([[1., 1., 1., 1.],\n",
              "       [1., 1., 1., 1.],\n",
              "       [1., 1., 1., 1.]])"
            ]
          },
          "metadata": {},
          "execution_count": 178
        }
      ]
    },
    {
      "cell_type": "code",
      "source": [
        "arr13 = np.dot(arr11, arr12)\n",
        "arr13"
      ],
      "metadata": {
        "id": "6JRtecuCKgC5",
        "outputId": "965a13f5-c850-4535-d7da-4f2f83c96fb2",
        "colab": {
          "base_uri": "https://localhost:8080/"
        }
      },
      "id": "6JRtecuCKgC5",
      "execution_count": 182,
      "outputs": [
        {
          "output_type": "execute_result",
          "data": {
            "text/plain": [
              "array([[3., 3., 3., 3.],\n",
              "       [3., 3., 3., 3.],\n",
              "       [3., 3., 3., 3.],\n",
              "       [3., 3., 3., 3.],\n",
              "       [3., 3., 3., 3.],\n",
              "       [3., 3., 3., 3.]])"
            ]
          },
          "metadata": {},
          "execution_count": 182
        }
      ]
    },
    {
      "cell_type": "code",
      "source": [],
      "metadata": {
        "id": "NEzWzKmDKgGB"
      },
      "id": "NEzWzKmDKgGB",
      "execution_count": null,
      "outputs": []
    },
    {
      "cell_type": "markdown",
      "id": "6d0c506f",
      "metadata": {
        "id": "6d0c506f"
      },
      "source": [
        "#### 15. Quyidagi misol qanday natija beradi?\n",
        "\n",
        "```python\n",
        "print(sum(range(5),-1))\n",
        "from numpy import *\n",
        "print(sum(range(5),-1))\n",
        "```"
      ]
    },
    {
      "cell_type": "code",
      "execution_count": 187,
      "id": "c1cc1143",
      "metadata": {
        "id": "c1cc1143",
        "outputId": "eef027b9-6494-417a-dd48-745a20663431",
        "colab": {
          "base_uri": "https://localhost:8080/"
        }
      },
      "outputs": [
        {
          "output_type": "execute_result",
          "data": {
            "text/plain": [
              "9"
            ]
          },
          "metadata": {},
          "execution_count": 187
        }
      ],
      "source": [
        "sum(range(5), -1)"
      ]
    },
    {
      "cell_type": "code",
      "source": [
        "sum(range(5))"
      ],
      "metadata": {
        "id": "SrWYiO0ELJfJ",
        "outputId": "90165004-fcf8-419b-c34c-950c66185919",
        "colab": {
          "base_uri": "https://localhost:8080/"
        }
      },
      "id": "SrWYiO0ELJfJ",
      "execution_count": 188,
      "outputs": [
        {
          "output_type": "execute_result",
          "data": {
            "text/plain": [
              "10"
            ]
          },
          "metadata": {},
          "execution_count": 188
        }
      ]
    },
    {
      "cell_type": "code",
      "source": [
        "list(range(5))"
      ],
      "metadata": {
        "id": "KdvM0QDoLJkk",
        "outputId": "b2ae5ef4-4fa6-49f8-d8f0-4e361192ae78",
        "colab": {
          "base_uri": "https://localhost:8080/"
        }
      },
      "id": "KdvM0QDoLJkk",
      "execution_count": 189,
      "outputs": [
        {
          "output_type": "execute_result",
          "data": {
            "text/plain": [
              "[0, 1, 2, 3, 4]"
            ]
          },
          "metadata": {},
          "execution_count": 189
        }
      ]
    },
    {
      "cell_type": "code",
      "source": [
        "from numpy import *"
      ],
      "metadata": {
        "id": "Q9w5R3IRLJuO"
      },
      "id": "Q9w5R3IRLJuO",
      "execution_count": 190,
      "outputs": []
    },
    {
      "cell_type": "code",
      "source": [
        "sum(range(5), -1)"
      ],
      "metadata": {
        "id": "kMmc5N8PL2EQ",
        "outputId": "4ebeadac-f4b0-48a5-dcab-3b147b6c0860",
        "colab": {
          "base_uri": "https://localhost:8080/"
        }
      },
      "id": "kMmc5N8PL2EQ",
      "execution_count": 191,
      "outputs": [
        {
          "output_type": "execute_result",
          "data": {
            "text/plain": [
              "10"
            ]
          },
          "metadata": {},
          "execution_count": 191
        }
      ]
    },
    {
      "cell_type": "code",
      "source": [
        "sum(range(5))"
      ],
      "metadata": {
        "id": "b5hSAUk2L2IY",
        "outputId": "f6984392-a6cb-4016-f5b1-a19b0be0305d",
        "colab": {
          "base_uri": "https://localhost:8080/"
        }
      },
      "id": "b5hSAUk2L2IY",
      "execution_count": 192,
      "outputs": [
        {
          "output_type": "execute_result",
          "data": {
            "text/plain": [
              "10"
            ]
          },
          "metadata": {},
          "execution_count": 192
        }
      ]
    },
    {
      "cell_type": "code",
      "source": [
        "list(range(5))"
      ],
      "metadata": {
        "id": "n973jquRMB3g",
        "outputId": "076962c0-c751-43de-df6b-bb89f806b780",
        "colab": {
          "base_uri": "https://localhost:8080/"
        }
      },
      "id": "n973jquRMB3g",
      "execution_count": 193,
      "outputs": [
        {
          "output_type": "execute_result",
          "data": {
            "text/plain": [
              "[0, 1, 2, 3, 4]"
            ]
          },
          "metadata": {},
          "execution_count": 193
        }
      ]
    },
    {
      "cell_type": "markdown",
      "id": "d6ad1a9f",
      "metadata": {
        "id": "d6ad1a9f"
      },
      "source": [
        "#### 16. NumPy kutubxonasi yordamida ikkita massivni solishtiring va ular usida quyidagi amallarni bajaring.\n",
        "\n",
        "```python\n",
        "Array a: [1 2]\n",
        "Array b: [4 5]\n",
        "a > b \n",
        "[False False]\n",
        "a >= b \n",
        "[False False] \n",
        "a < b \n",
        "[ True True] \n",
        "a <= b \n",
        "[ True True]\n",
        "```"
      ]
    },
    {
      "cell_type": "code",
      "execution_count": 194,
      "id": "7ba3c441",
      "metadata": {
        "id": "7ba3c441"
      },
      "outputs": [],
      "source": [
        "a = np.array([1, 2])\n",
        "b = np.array([4, 5])"
      ]
    },
    {
      "cell_type": "code",
      "source": [
        "a"
      ],
      "metadata": {
        "id": "mI220OS8Mg9w",
        "outputId": "7d2dd35f-135d-497c-9d60-0b0d2a527378",
        "colab": {
          "base_uri": "https://localhost:8080/"
        }
      },
      "id": "mI220OS8Mg9w",
      "execution_count": 195,
      "outputs": [
        {
          "output_type": "execute_result",
          "data": {
            "text/plain": [
              "array([1, 2])"
            ]
          },
          "metadata": {},
          "execution_count": 195
        }
      ]
    },
    {
      "cell_type": "code",
      "source": [
        "b"
      ],
      "metadata": {
        "id": "6H_1oCo7MhBY",
        "outputId": "03c49151-3cbb-4f9e-8a99-b04aeacef447",
        "colab": {
          "base_uri": "https://localhost:8080/"
        }
      },
      "id": "6H_1oCo7MhBY",
      "execution_count": 196,
      "outputs": [
        {
          "output_type": "execute_result",
          "data": {
            "text/plain": [
              "array([4, 5])"
            ]
          },
          "metadata": {},
          "execution_count": 196
        }
      ]
    },
    {
      "cell_type": "code",
      "source": [
        "a > b"
      ],
      "metadata": {
        "id": "iCI8BQLDMhEi",
        "outputId": "79f1d9b9-5c61-4166-f9cd-c187b34e34af",
        "colab": {
          "base_uri": "https://localhost:8080/"
        }
      },
      "id": "iCI8BQLDMhEi",
      "execution_count": 197,
      "outputs": [
        {
          "output_type": "execute_result",
          "data": {
            "text/plain": [
              "array([False, False])"
            ]
          },
          "metadata": {},
          "execution_count": 197
        }
      ]
    },
    {
      "cell_type": "code",
      "source": [
        "a >= b"
      ],
      "metadata": {
        "id": "ZttiLqH_MhI8",
        "outputId": "f8b4e971-fc42-4189-f3da-469425063648",
        "colab": {
          "base_uri": "https://localhost:8080/"
        }
      },
      "id": "ZttiLqH_MhI8",
      "execution_count": 199,
      "outputs": [
        {
          "output_type": "execute_result",
          "data": {
            "text/plain": [
              "array([False, False])"
            ]
          },
          "metadata": {},
          "execution_count": 199
        }
      ]
    },
    {
      "cell_type": "code",
      "source": [
        "a < b"
      ],
      "metadata": {
        "id": "THnP6b1-MrSZ",
        "outputId": "1ae8d0fe-27b6-42c3-9c37-346451d67430",
        "colab": {
          "base_uri": "https://localhost:8080/"
        }
      },
      "id": "THnP6b1-MrSZ",
      "execution_count": 200,
      "outputs": [
        {
          "output_type": "execute_result",
          "data": {
            "text/plain": [
              "array([ True,  True])"
            ]
          },
          "metadata": {},
          "execution_count": 200
        }
      ]
    },
    {
      "cell_type": "code",
      "source": [
        "a <= b"
      ],
      "metadata": {
        "id": "EDTNm30rMrYX",
        "outputId": "e8cb1d2f-27a4-43ef-c453-580a5eff4cb3",
        "colab": {
          "base_uri": "https://localhost:8080/"
        }
      },
      "id": "EDTNm30rMrYX",
      "execution_count": 201,
      "outputs": [
        {
          "output_type": "execute_result",
          "data": {
            "text/plain": [
              "array([ True,  True])"
            ]
          },
          "metadata": {},
          "execution_count": 201
        }
      ]
    },
    {
      "cell_type": "markdown",
      "id": "e3a7ba7f",
      "metadata": {
        "id": "e3a7ba7f"
      },
      "source": [
        "#### 17. Quyidagi misol qanday natija beradi?\n",
        "\n",
        "```python\n",
        "np.array(0) / np.array(0)\n",
        "np.array(0) // np.array(0)\n",
        "np.array([np.nan]).astype(int).astype(float)\n",
        "```"
      ]
    },
    {
      "cell_type": "code",
      "execution_count": 203,
      "id": "b874734e",
      "metadata": {
        "id": "b874734e",
        "outputId": "373b68d6-132d-4ad2-8b82-61894b0fc7b1",
        "colab": {
          "base_uri": "https://localhost:8080/"
        }
      },
      "outputs": [
        {
          "output_type": "execute_result",
          "data": {
            "text/plain": [
              "array(0)"
            ]
          },
          "metadata": {},
          "execution_count": 203
        }
      ],
      "source": [
        "np.array(0)"
      ]
    },
    {
      "cell_type": "code",
      "source": [
        "np.array(0) / np.array(0)"
      ],
      "metadata": {
        "id": "f0tgjhipM6wK",
        "outputId": "0485fe88-b735-49e9-e990-53b4b26b2a2b",
        "colab": {
          "base_uri": "https://localhost:8080/"
        }
      },
      "id": "f0tgjhipM6wK",
      "execution_count": 204,
      "outputs": [
        {
          "output_type": "stream",
          "name": "stderr",
          "text": [
            "<ipython-input-204-3585dcb7ab9b>:1: RuntimeWarning: invalid value encountered in true_divide\n",
            "  np.array(0) / np.array(0)\n"
          ]
        },
        {
          "output_type": "execute_result",
          "data": {
            "text/plain": [
              "nan"
            ]
          },
          "metadata": {},
          "execution_count": 204
        }
      ]
    },
    {
      "cell_type": "code",
      "source": [
        "np.array(0) // np.array(0)"
      ],
      "metadata": {
        "id": "kICjsFsFM6zB",
        "outputId": "5ffc6ac6-e540-4d62-d8cf-9b68dc5205c6",
        "colab": {
          "base_uri": "https://localhost:8080/"
        }
      },
      "id": "kICjsFsFM6zB",
      "execution_count": 205,
      "outputs": [
        {
          "output_type": "stream",
          "name": "stderr",
          "text": [
            "<ipython-input-205-4764261090d0>:1: RuntimeWarning: divide by zero encountered in floor_divide\n",
            "  np.array(0) // np.array(0)\n"
          ]
        },
        {
          "output_type": "execute_result",
          "data": {
            "text/plain": [
              "0"
            ]
          },
          "metadata": {},
          "execution_count": 205
        }
      ]
    },
    {
      "cell_type": "code",
      "source": [
        "np.array([np.nan])"
      ],
      "metadata": {
        "id": "CVvTqPt-M61G",
        "outputId": "e6cb8b77-675b-4fd1-8f04-a75e85dab3df",
        "colab": {
          "base_uri": "https://localhost:8080/"
        }
      },
      "id": "CVvTqPt-M61G",
      "execution_count": 211,
      "outputs": [
        {
          "output_type": "execute_result",
          "data": {
            "text/plain": [
              "array([nan])"
            ]
          },
          "metadata": {},
          "execution_count": 211
        }
      ]
    },
    {
      "cell_type": "code",
      "source": [
        "np.array([np.nan]).astype(int)"
      ],
      "metadata": {
        "id": "fLY7MeVIM63-",
        "outputId": "ee68cd7a-3021-4e0a-a3d5-ba55a6d78452",
        "colab": {
          "base_uri": "https://localhost:8080/"
        }
      },
      "id": "fLY7MeVIM63-",
      "execution_count": 212,
      "outputs": [
        {
          "output_type": "execute_result",
          "data": {
            "text/plain": [
              "array([-9223372036854775808])"
            ]
          },
          "metadata": {},
          "execution_count": 212
        }
      ]
    },
    {
      "cell_type": "code",
      "source": [
        "np.array([np.nan]).astype(int).astype(float)"
      ],
      "metadata": {
        "id": "dzIe9SWcNoLY",
        "outputId": "1404a781-1b68-48f8-b283-f7e99cca82d7",
        "colab": {
          "base_uri": "https://localhost:8080/"
        }
      },
      "id": "dzIe9SWcNoLY",
      "execution_count": 213,
      "outputs": [
        {
          "output_type": "execute_result",
          "data": {
            "text/plain": [
              "array([-9.22337204e+18])"
            ]
          },
          "metadata": {},
          "execution_count": 213
        }
      ]
    },
    {
      "cell_type": "code",
      "source": [],
      "metadata": {
        "id": "WE3FDiXzNoPA"
      },
      "id": "WE3FDiXzNoPA",
      "execution_count": null,
      "outputs": []
    },
    {
      "cell_type": "code",
      "source": [],
      "metadata": {
        "id": "cifGHAhQNoSJ"
      },
      "id": "cifGHAhQNoSJ",
      "execution_count": null,
      "outputs": []
    },
    {
      "cell_type": "markdown",
      "id": "6d17ab5d",
      "metadata": {
        "id": "6d17ab5d"
      },
      "source": [
        "#### 18. Ikkita massiv yarating va ular orasidagi umumiy qiymatlarni toping\n"
      ]
    },
    {
      "cell_type": "markdown",
      "source": [
        "`💡Ishora` np.intersect1d"
      ],
      "metadata": {
        "id": "4c4e2c5e"
      },
      "id": "4c4e2c5e"
    },
    {
      "cell_type": "code",
      "source": [
        "arr1 = np.array([1, 1, 1, 2, 3, 3, 3, 3, 4, 4])\n",
        "arr1"
      ],
      "metadata": {
        "id": "Dxz5P8WpMeAP",
        "outputId": "3d8e54dc-fae3-47da-fc66-46ee38f147d5",
        "colab": {
          "base_uri": "https://localhost:8080/"
        }
      },
      "id": "Dxz5P8WpMeAP",
      "execution_count": 222,
      "outputs": [
        {
          "output_type": "execute_result",
          "data": {
            "text/plain": [
              "array([1, 1, 1, 2, 3, 3, 3, 3, 4, 4])"
            ]
          },
          "metadata": {},
          "execution_count": 222
        }
      ]
    },
    {
      "cell_type": "code",
      "source": [
        "arr2 = np.array([1, 3, 10, 11, 12, 13])\n",
        "arr2"
      ],
      "metadata": {
        "id": "T8lK3uDuOPRP",
        "outputId": "7a632206-f35b-4496-c81a-4dd54e231262",
        "colab": {
          "base_uri": "https://localhost:8080/"
        }
      },
      "id": "T8lK3uDuOPRP",
      "execution_count": 223,
      "outputs": [
        {
          "output_type": "execute_result",
          "data": {
            "text/plain": [
              "array([ 1,  3, 10, 11, 12, 13])"
            ]
          },
          "metadata": {},
          "execution_count": 223
        }
      ]
    },
    {
      "cell_type": "code",
      "source": [
        "np.intersect1d(arr1, arr2)"
      ],
      "metadata": {
        "id": "EAUuwliEOPUG",
        "outputId": "ceec3fdc-4622-42af-db5d-379911ec593e",
        "colab": {
          "base_uri": "https://localhost:8080/"
        }
      },
      "id": "EAUuwliEOPUG",
      "execution_count": 224,
      "outputs": [
        {
          "output_type": "execute_result",
          "data": {
            "text/plain": [
              "array([1, 3])"
            ]
          },
          "metadata": {},
          "execution_count": 224
        }
      ]
    },
    {
      "cell_type": "markdown",
      "id": "8837119b",
      "metadata": {
        "id": "8837119b"
      },
      "source": [
        "#### 19. Tasodifiy sonlardan iborat bo'lgan massiv yarating, so'ng ularni quyida berilgan 4 xil usul yordamida musbat sonlarning butun qismini ajratib oling."
      ]
    },
    {
      "cell_type": "markdown",
      "source": [
        "`💡Ishora` %, np.floor, astype, np.trunc"
      ],
      "metadata": {
        "id": "2b05c544"
      },
      "id": "2b05c544"
    },
    {
      "cell_type": "code",
      "source": [
        "arr = np.random.randn(10)\n",
        "arr"
      ],
      "metadata": {
        "id": "jc6wN5WWMpS3",
        "outputId": "53d00530-bb6b-4ec8-e445-ae22986d09ce",
        "colab": {
          "base_uri": "https://localhost:8080/"
        }
      },
      "id": "jc6wN5WWMpS3",
      "execution_count": 239,
      "outputs": [
        {
          "output_type": "execute_result",
          "data": {
            "text/plain": [
              "array([ 0.21532898, -0.20621154, -0.05244675, -0.43072105, -0.00911224,\n",
              "       -0.84192494,  1.43943501,  0.80542618, -1.65771519,  0.07808573])"
            ]
          },
          "metadata": {},
          "execution_count": 239
        }
      ]
    },
    {
      "cell_type": "code",
      "source": [
        "arr.astype(int)"
      ],
      "metadata": {
        "id": "p8BZqp3uTek9",
        "outputId": "9e3afd0a-89e9-4db0-e32d-0b003a5069a3",
        "colab": {
          "base_uri": "https://localhost:8080/"
        }
      },
      "id": "p8BZqp3uTek9",
      "execution_count": 240,
      "outputs": [
        {
          "output_type": "execute_result",
          "data": {
            "text/plain": [
              "array([ 0,  0,  0,  0,  0,  0,  1,  0, -1,  0])"
            ]
          },
          "metadata": {},
          "execution_count": 240
        }
      ]
    },
    {
      "cell_type": "code",
      "source": [
        "np.trunc(arr)"
      ],
      "metadata": {
        "id": "B59FgAdNTeoD",
        "outputId": "a32b6361-21b1-4cab-be9a-6ce884e18ca3",
        "colab": {
          "base_uri": "https://localhost:8080/"
        }
      },
      "id": "B59FgAdNTeoD",
      "execution_count": 241,
      "outputs": [
        {
          "output_type": "execute_result",
          "data": {
            "text/plain": [
              "array([ 0., -0., -0., -0., -0., -0.,  1.,  0., -1.,  0.])"
            ]
          },
          "metadata": {},
          "execution_count": 241
        }
      ]
    },
    {
      "cell_type": "code",
      "source": [
        "np.floor(arr)"
      ],
      "metadata": {
        "id": "UKCHhFo1Ter_",
        "outputId": "5300a909-c30e-497f-d4d7-6af6a0cd6cbc",
        "colab": {
          "base_uri": "https://localhost:8080/"
        }
      },
      "id": "UKCHhFo1Ter_",
      "execution_count": 242,
      "outputs": [
        {
          "output_type": "execute_result",
          "data": {
            "text/plain": [
              "array([ 0., -1., -1., -1., -1., -1.,  1.,  0., -2.,  0.])"
            ]
          },
          "metadata": {},
          "execution_count": 242
        }
      ]
    },
    {
      "cell_type": "code",
      "source": [
        "arr - arr % 1 "
      ],
      "metadata": {
        "id": "JP7c61uoVpZK",
        "outputId": "13bbbcd2-385c-47b1-9794-ad41385ec5dc",
        "colab": {
          "base_uri": "https://localhost:8080/"
        }
      },
      "id": "JP7c61uoVpZK",
      "execution_count": 244,
      "outputs": [
        {
          "output_type": "execute_result",
          "data": {
            "text/plain": [
              "array([ 0., -1., -1., -1., -1., -1.,  1.,  0., -2.,  0.])"
            ]
          },
          "metadata": {},
          "execution_count": 244
        }
      ]
    },
    {
      "cell_type": "markdown",
      "id": "ec788c9f",
      "metadata": {
        "id": "ec788c9f"
      },
      "source": [
        "#### 20. O'lchovlari 3x3 matritsa yarating, ularning qator qiymatlari 0 dan 2 gacha bo'lsin.\n",
        "\n"
      ]
    },
    {
      "cell_type": "markdown",
      "source": [
        "`💡Ishora` np.arange"
      ],
      "metadata": {
        "id": "c3980b2c"
      },
      "id": "c3980b2c"
    },
    {
      "cell_type": "code",
      "source": [
        "arr = np.arange(0, 3)\n",
        "np.array([arr, arr, arr])"
      ],
      "metadata": {
        "id": "ycz3jw4bM0Xk",
        "outputId": "7cbf5f1d-8134-40ee-8fe9-5ef1a5f91bbc",
        "colab": {
          "base_uri": "https://localhost:8080/"
        }
      },
      "id": "ycz3jw4bM0Xk",
      "execution_count": 255,
      "outputs": [
        {
          "output_type": "execute_result",
          "data": {
            "text/plain": [
              "array([[0, 1, 2],\n",
              "       [0, 1, 2],\n",
              "       [0, 1, 2]])"
            ]
          },
          "metadata": {},
          "execution_count": 255
        }
      ]
    },
    {
      "cell_type": "code",
      "source": [
        "np.array([arr, arr, arr]).shape "
      ],
      "metadata": {
        "id": "a3nIMzz_YBhx",
        "outputId": "7e737fb6-2307-4d2e-bae0-b89d0514072e",
        "colab": {
          "base_uri": "https://localhost:8080/"
        }
      },
      "id": "a3nIMzz_YBhx",
      "execution_count": 256,
      "outputs": [
        {
          "output_type": "execute_result",
          "data": {
            "text/plain": [
              "(3, 3)"
            ]
          },
          "metadata": {},
          "execution_count": 256
        }
      ]
    },
    {
      "cell_type": "markdown",
      "id": "391791e0",
      "metadata": {
        "id": "391791e0"
      },
      "source": [
        "#### 21. O'chamlari 10 bo'lgan tasodifiy vektor yarating va uni o'sish tartibida chiqaruvchi dastur tuzing.\n",
        "\n"
      ]
    },
    {
      "cell_type": "markdown",
      "source": [
        "`💡Ishora` sort"
      ],
      "metadata": {
        "id": "ada71c06"
      },
      "id": "ada71c06"
    },
    {
      "cell_type": "code",
      "source": [
        "arr = np.random.randn(10)\n",
        "arr"
      ],
      "metadata": {
        "id": "TPMqaavROM7g",
        "outputId": "40c9016b-5757-40fb-c7d0-85db83bee384",
        "colab": {
          "base_uri": "https://localhost:8080/"
        }
      },
      "id": "TPMqaavROM7g",
      "execution_count": 258,
      "outputs": [
        {
          "output_type": "execute_result",
          "data": {
            "text/plain": [
              "array([ 1.24351609, -0.03959992,  0.02598997,  0.68507366, -0.512127  ,\n",
              "       -1.9528914 ,  0.5183842 , -0.13454805,  0.13390126,  1.38870847])"
            ]
          },
          "metadata": {},
          "execution_count": 258
        }
      ]
    },
    {
      "cell_type": "code",
      "source": [
        "arr.sort()"
      ],
      "metadata": {
        "id": "4uo8DMn8Z1wD"
      },
      "id": "4uo8DMn8Z1wD",
      "execution_count": 260,
      "outputs": []
    },
    {
      "cell_type": "code",
      "source": [
        "arr"
      ],
      "metadata": {
        "id": "RNic4KB2Z1yo",
        "outputId": "94b160a8-7e31-467e-b001-0c1508b51567",
        "colab": {
          "base_uri": "https://localhost:8080/"
        }
      },
      "id": "RNic4KB2Z1yo",
      "execution_count": 261,
      "outputs": [
        {
          "output_type": "execute_result",
          "data": {
            "text/plain": [
              "array([-1.9528914 , -0.512127  , -0.13454805, -0.03959992,  0.02598997,\n",
              "        0.13390126,  0.5183842 ,  0.68507366,  1.24351609,  1.38870847])"
            ]
          },
          "metadata": {},
          "execution_count": 261
        }
      ]
    },
    {
      "cell_type": "markdown",
      "id": "1e74d39e",
      "metadata": {
        "id": "1e74d39e"
      },
      "source": [
        "#### 22. A va B nomi bilan ikkita tasodifiy qiymatlardan iborat bo'lgan massiv yarating, so'ng ulardan qaysi biri katta yoki kichik ekanligini tekshiring."
      ]
    },
    {
      "cell_type": "markdown",
      "source": [
        "`💡Ishora` np.allclose, np.array_equal"
      ],
      "metadata": {
        "id": "eb0e066c"
      },
      "id": "eb0e066c"
    },
    {
      "cell_type": "code",
      "source": [
        "A = np.random.randn(10)\n",
        "A"
      ],
      "metadata": {
        "id": "xHNWNZnwOT1r",
        "outputId": "fc031dd8-4938-4768-8a30-2587bb18617c",
        "colab": {
          "base_uri": "https://localhost:8080/"
        }
      },
      "id": "xHNWNZnwOT1r",
      "execution_count": 277,
      "outputs": [
        {
          "output_type": "execute_result",
          "data": {
            "text/plain": [
              "array([-0.24507097,  0.3151373 , -0.18329359, -0.6409283 ,  0.28600668,\n",
              "        1.01438482, -0.02810891, -2.43498498, -0.87189563,  0.84492608])"
            ]
          },
          "metadata": {},
          "execution_count": 277
        }
      ]
    },
    {
      "cell_type": "code",
      "source": [
        "B = np.random.randn(10)\n",
        "B"
      ],
      "metadata": {
        "id": "7GQMJqGbaOPU",
        "outputId": "86447943-b218-491e-9024-03e597ac9d94",
        "colab": {
          "base_uri": "https://localhost:8080/"
        }
      },
      "id": "7GQMJqGbaOPU",
      "execution_count": 278,
      "outputs": [
        {
          "output_type": "execute_result",
          "data": {
            "text/plain": [
              "array([-2.09735606, -0.97641525,  0.12467569,  1.35762237,  0.39888769,\n",
              "        0.20145197,  1.01436508,  0.77242275,  1.14363413, -0.52808618])"
            ]
          },
          "metadata": {},
          "execution_count": 278
        }
      ]
    },
    {
      "cell_type": "code",
      "source": [
        "A.sum()"
      ],
      "metadata": {
        "id": "Fgcf0AteaOSN",
        "outputId": "eef549f5-0838-48a1-ae0a-af3570f5b930",
        "colab": {
          "base_uri": "https://localhost:8080/"
        }
      },
      "id": "Fgcf0AteaOSN",
      "execution_count": 279,
      "outputs": [
        {
          "output_type": "execute_result",
          "data": {
            "text/plain": [
              "-1.94382750001368"
            ]
          },
          "metadata": {},
          "execution_count": 279
        }
      ]
    },
    {
      "cell_type": "code",
      "source": [
        "B.sum()"
      ],
      "metadata": {
        "id": "-Cw0DdiwaOU3",
        "outputId": "75e7a828-cc5f-4de0-8164-980b5b4030ac",
        "colab": {
          "base_uri": "https://localhost:8080/"
        }
      },
      "id": "-Cw0DdiwaOU3",
      "execution_count": 280,
      "outputs": [
        {
          "output_type": "execute_result",
          "data": {
            "text/plain": [
              "1.411202179921068"
            ]
          },
          "metadata": {},
          "execution_count": 280
        }
      ]
    },
    {
      "cell_type": "code",
      "source": [
        "np.allclose(A, B) # if both vale's sum equal : True else: False "
      ],
      "metadata": {
        "id": "VkiRST-0aOX8",
        "outputId": "ff523e8b-abc9-4664-ae64-055e307bf5fd",
        "colab": {
          "base_uri": "https://localhost:8080/"
        }
      },
      "id": "VkiRST-0aOX8",
      "execution_count": 298,
      "outputs": [
        {
          "output_type": "execute_result",
          "data": {
            "text/plain": [
              "False"
            ]
          },
          "metadata": {},
          "execution_count": 298
        }
      ]
    },
    {
      "cell_type": "code",
      "source": [
        "np.array_equal(A, B)"
      ],
      "metadata": {
        "id": "LQH9smO3aOc7",
        "outputId": "5793040e-8c2d-4266-d226-96a2b271a093",
        "colab": {
          "base_uri": "https://localhost:8080/"
        }
      },
      "id": "LQH9smO3aOc7",
      "execution_count": 282,
      "outputs": [
        {
          "output_type": "execute_result",
          "data": {
            "text/plain": [
              "False"
            ]
          },
          "metadata": {},
          "execution_count": 282
        }
      ]
    },
    {
      "cell_type": "code",
      "source": [
        "np.allclose(1, 0.99999999)"
      ],
      "metadata": {
        "id": "S5lip0n0aOkK",
        "outputId": "297b314b-2fff-467e-9c6e-8c11bf1b4071",
        "colab": {
          "base_uri": "https://localhost:8080/"
        }
      },
      "id": "S5lip0n0aOkK",
      "execution_count": 292,
      "outputs": [
        {
          "output_type": "execute_result",
          "data": {
            "text/plain": [
              "True"
            ]
          },
          "metadata": {},
          "execution_count": 292
        }
      ]
    },
    {
      "cell_type": "code",
      "source": [
        "np.allclose(1, 0.999)"
      ],
      "metadata": {
        "id": "HFCiHrgmcdzS",
        "outputId": "5d88d44d-b124-4a81-f2e4-cdef9583d721",
        "colab": {
          "base_uri": "https://localhost:8080/"
        }
      },
      "id": "HFCiHrgmcdzS",
      "execution_count": 293,
      "outputs": [
        {
          "output_type": "execute_result",
          "data": {
            "text/plain": [
              "False"
            ]
          },
          "metadata": {},
          "execution_count": 293
        }
      ]
    },
    {
      "cell_type": "code",
      "source": [
        "np.array_equal(5, 5)"
      ],
      "metadata": {
        "id": "PVWDc5zIcd7V",
        "outputId": "23fce65d-314c-460c-e75a-eb25908bd957",
        "colab": {
          "base_uri": "https://localhost:8080/"
        }
      },
      "id": "PVWDc5zIcd7V",
      "execution_count": 294,
      "outputs": [
        {
          "output_type": "execute_result",
          "data": {
            "text/plain": [
              "True"
            ]
          },
          "metadata": {},
          "execution_count": 294
        }
      ]
    },
    {
      "cell_type": "code",
      "source": [
        "np.array_equal(5, 4.9999999999)"
      ],
      "metadata": {
        "id": "i7SwbOiPceFf",
        "outputId": "c7c45210-0452-4572-bbee-e8113d75fdbf",
        "colab": {
          "base_uri": "https://localhost:8080/"
        }
      },
      "id": "i7SwbOiPceFf",
      "execution_count": 297,
      "outputs": [
        {
          "output_type": "execute_result",
          "data": {
            "text/plain": [
              "False"
            ]
          },
          "metadata": {},
          "execution_count": 297
        }
      ]
    },
    {
      "cell_type": "markdown",
      "id": "78250c14",
      "metadata": {
        "id": "78250c14"
      },
      "source": [
        "#### 23. O'lchamlari 6x3 va 3x4 matritsa tuzing va ularni o'zaro ko'paytiring. \n"
      ]
    },
    {
      "cell_type": "markdown",
      "source": [
        "`💡Ishora` np.dot or np.ones"
      ],
      "metadata": {
        "id": "2e482afe"
      },
      "id": "2e482afe"
    },
    {
      "cell_type": "code",
      "source": [
        "arr1 = np.arange(6*3).reshape(6, 3)\n",
        "arr1 "
      ],
      "metadata": {
        "id": "ZRlMgdT9POgS",
        "outputId": "20d55de7-f3bc-44fe-db7e-269e52706fdd",
        "colab": {
          "base_uri": "https://localhost:8080/"
        }
      },
      "id": "ZRlMgdT9POgS",
      "execution_count": 302,
      "outputs": [
        {
          "output_type": "execute_result",
          "data": {
            "text/plain": [
              "array([[ 0,  1,  2],\n",
              "       [ 3,  4,  5],\n",
              "       [ 6,  7,  8],\n",
              "       [ 9, 10, 11],\n",
              "       [12, 13, 14],\n",
              "       [15, 16, 17]])"
            ]
          },
          "metadata": {},
          "execution_count": 302
        }
      ]
    },
    {
      "cell_type": "code",
      "source": [
        "arr2 = np.arange(3*4).reshape(3, 4)\n",
        "arr2 "
      ],
      "metadata": {
        "id": "3TjYDRa_dwMp",
        "outputId": "ccc9e691-ea73-43b2-9177-6eb2d4d889c0",
        "colab": {
          "base_uri": "https://localhost:8080/"
        }
      },
      "id": "3TjYDRa_dwMp",
      "execution_count": 301,
      "outputs": [
        {
          "output_type": "execute_result",
          "data": {
            "text/plain": [
              "array([[ 0,  1,  2,  3],\n",
              "       [ 4,  5,  6,  7],\n",
              "       [ 8,  9, 10, 11]])"
            ]
          },
          "metadata": {},
          "execution_count": 301
        }
      ]
    },
    {
      "cell_type": "code",
      "source": [
        "np.dot(arr1, arr2)"
      ],
      "metadata": {
        "id": "zdPkO6nRdwPR",
        "outputId": "1a3945b3-e1a8-4a1c-99f1-a033c0fc8247",
        "colab": {
          "base_uri": "https://localhost:8080/"
        }
      },
      "id": "zdPkO6nRdwPR",
      "execution_count": 303,
      "outputs": [
        {
          "output_type": "execute_result",
          "data": {
            "text/plain": [
              "array([[ 20,  23,  26,  29],\n",
              "       [ 56,  68,  80,  92],\n",
              "       [ 92, 113, 134, 155],\n",
              "       [128, 158, 188, 218],\n",
              "       [164, 203, 242, 281],\n",
              "       [200, 248, 296, 344]])"
            ]
          },
          "metadata": {},
          "execution_count": 303
        }
      ]
    },
    {
      "cell_type": "code",
      "source": [],
      "metadata": {
        "id": "QH7IBYbvdwUi"
      },
      "id": "QH7IBYbvdwUi",
      "execution_count": null,
      "outputs": []
    },
    {
      "cell_type": "code",
      "source": [],
      "metadata": {
        "id": "qS4TykRQdwYJ"
      },
      "id": "qS4TykRQdwYJ",
      "execution_count": null,
      "outputs": []
    },
    {
      "cell_type": "code",
      "source": [],
      "metadata": {
        "id": "KQiO4ogCdwbU"
      },
      "id": "KQiO4ogCdwbU",
      "execution_count": null,
      "outputs": []
    },
    {
      "cell_type": "markdown",
      "id": "51898680",
      "metadata": {
        "id": "51898680"
      },
      "source": [
        "#### 24. Tasodifiy sonlardan iborat bo'lgan o'lchami 5 ga teng vektor yarating, so'ng uning eng katta qiymatini 0 ga o'zgartiring.\n"
      ]
    },
    {
      "cell_type": "markdown",
      "source": [
        "`💡Ishora` argmax"
      ],
      "metadata": {
        "id": "ee92ccaf"
      },
      "id": "ee92ccaf"
    },
    {
      "cell_type": "code",
      "source": [],
      "metadata": {
        "id": "v9DvyaTNPk_t"
      },
      "id": "v9DvyaTNPk_t",
      "execution_count": null,
      "outputs": []
    },
    {
      "cell_type": "markdown",
      "id": "89e78048",
      "metadata": {
        "id": "89e78048"
      },
      "source": [
        "#### 25. Quyidagi dastur qanday natija beradi?\n",
        "```python\n",
        "print(sum(range(5),-1))\n",
        "from numpy import *\n",
        "print(sum(range(5),-1))\n",
        "```"
      ]
    },
    {
      "cell_type": "code",
      "execution_count": null,
      "id": "8026c969",
      "metadata": {
        "id": "8026c969"
      },
      "outputs": [],
      "source": []
    },
    {
      "cell_type": "markdown",
      "id": "ebd10810",
      "metadata": {
        "id": "ebd10810"
      },
      "source": [
        "#### 26. NumPy kutubxonasi yordamida ikkita massivni solishtiruvchi dastur tuzing.\n",
        "```python\n",
        "Array a: [1 2]\n",
        "Array b: [4 5]\n",
        "a > b \n",
        "[False False]\n",
        "a >= b \n",
        "[False False] \n",
        "a < b \n",
        "[ True True] \n",
        "a <= b \n",
        "[ True True]\n",
        "```"
      ]
    },
    {
      "cell_type": "code",
      "execution_count": null,
      "id": "90fed5c6",
      "metadata": {
        "id": "90fed5c6"
      },
      "outputs": [],
      "source": []
    },
    {
      "cell_type": "markdown",
      "id": "f1ae2c2d",
      "metadata": {
        "id": "f1ae2c2d"
      },
      "source": [
        "#### 27. Ikkita umumiy qiymatlari mavjud bo'lgan massiv yarating, so'ng ulardagi umumiy qiymatlarni aniqlovchi dastur tuzing.\n"
      ]
    },
    {
      "cell_type": "markdown",
      "source": [
        "`💡Ishora` np.intersect1d"
      ],
      "metadata": {
        "id": "097482ad"
      },
      "id": "097482ad"
    },
    {
      "cell_type": "code",
      "source": [],
      "metadata": {
        "id": "M3QZ2rC3Roij"
      },
      "id": "M3QZ2rC3Roij",
      "execution_count": null,
      "outputs": []
    },
    {
      "cell_type": "markdown",
      "id": "129c342d",
      "metadata": {
        "id": "129c342d"
      },
      "source": [
        "#### 28. NumPy kutubxonasi yordamida kecha, bugun va ertangi kun sanalarini aniqlang.\n"
      ]
    },
    {
      "cell_type": "markdown",
      "source": [
        "`💡Ishora` np.datetime64, np.timedelta64"
      ],
      "metadata": {
        "id": "0fd2f947"
      },
      "id": "0fd2f947"
    },
    {
      "cell_type": "code",
      "source": [],
      "metadata": {
        "id": "dlljRGxkSitd"
      },
      "id": "dlljRGxkSitd",
      "execution_count": null,
      "outputs": []
    },
    {
      "cell_type": "markdown",
      "id": "42f8b2f9",
      "metadata": {
        "id": "42f8b2f9"
      },
      "source": [
        "#### 29. 2016 yil yanvar oyiga to'g'ri keladigan barcha sanalarni NumPy kutubxonasi yordamida aniqlang.\n"
      ]
    },
    {
      "cell_type": "markdown",
      "source": [
        "`💡Ishora` np.arange(dtype=datetime64['D'])"
      ],
      "metadata": {
        "id": "SU1BWcA8Sw2M"
      },
      "id": "SU1BWcA8Sw2M"
    },
    {
      "cell_type": "code",
      "execution_count": null,
      "id": "5ad086b0",
      "metadata": {
        "id": "5ad086b0"
      },
      "outputs": [],
      "source": []
    },
    {
      "cell_type": "markdown",
      "id": "486df8ea",
      "metadata": {
        "id": "486df8ea"
      },
      "source": [
        "#### 30. 4 xil usul yordamida musbat sonlarning tasodifiy massivining butun son qismini ajratib oling.\n"
      ]
    },
    {
      "cell_type": "markdown",
      "source": [
        "`💡Ishora` %, np.floor, astype, np.trunc`"
      ],
      "metadata": {
        "id": "h4QM3bp9TDhb"
      },
      "id": "h4QM3bp9TDhb"
    },
    {
      "cell_type": "code",
      "execution_count": null,
      "id": "2680c1ca",
      "metadata": {
        "id": "2680c1ca"
      },
      "outputs": [],
      "source": []
    },
    {
      "cell_type": "markdown",
      "id": "649e89f9",
      "metadata": {
        "id": "649e89f9"
      },
      "source": [
        "#### 31. Qator qiymatlari 0 dan 2 gacha bo'lgan 3x3 matritsa yarating.\n"
      ]
    },
    {
      "cell_type": "markdown",
      "source": [
        "`💡Ishora` np.arange"
      ],
      "metadata": {
        "id": "e832212f"
      },
      "id": "e832212f"
    },
    {
      "cell_type": "code",
      "source": [],
      "metadata": {
        "id": "YKNJEcLrTg3d"
      },
      "id": "YKNJEcLrTg3d",
      "execution_count": null,
      "outputs": []
    },
    {
      "cell_type": "markdown",
      "id": "2d07be1c",
      "metadata": {
        "id": "2d07be1c"
      },
      "source": [
        "#### 32. Tasodifiy qiymatlardan tashkil topgan 10 o'lchovli vektor yarating, so'ng uning qiymatlarini o'sish tartibida yozing.\n"
      ]
    },
    {
      "cell_type": "markdown",
      "source": [
        "`💡Ishora` sort"
      ],
      "metadata": {
        "id": "046a541a"
      },
      "id": "046a541a"
    },
    {
      "cell_type": "code",
      "source": [],
      "metadata": {
        "id": "zOPE5f20U95l"
      },
      "id": "zOPE5f20U95l",
      "execution_count": null,
      "outputs": []
    },
    {
      "cell_type": "markdown",
      "id": "6415f02e",
      "metadata": {
        "id": "6415f02e"
      },
      "source": [
        "#### 33. Ixtiyoriy kichik massivlar yarating, ular yeg'indisini np.sum funksiyasidanda tezroq hisoblovchi dastur tuzing.\n"
      ]
    },
    {
      "cell_type": "markdown",
      "source": [
        "`💡Ishora` np.add.reduce"
      ],
      "metadata": {
        "id": "129e785f"
      },
      "id": "129e785f"
    },
    {
      "cell_type": "code",
      "source": [],
      "metadata": {
        "id": "M0Xv2bB9VYQZ"
      },
      "id": "M0Xv2bB9VYQZ",
      "execution_count": null,
      "outputs": []
    },
    {
      "cell_type": "markdown",
      "id": "b7109c9f",
      "metadata": {
        "id": "b7109c9f"
      },
      "source": [
        "#### 34. Tasodifiy qiymatlardan tashkil topgan 5 o'lchovli vektor yarating, so'ng uning eng katta qiymatini 0 raqamiga almashtiring.\n"
      ]
    },
    {
      "cell_type": "markdown",
      "source": [
        "`💡Ishora` argmax"
      ],
      "metadata": {
        "id": "89b75e6d"
      },
      "id": "89b75e6d"
    },
    {
      "cell_type": "code",
      "source": [],
      "metadata": {
        "id": "rRz1oOQfXdg6"
      },
      "id": "rRz1oOQfXdg6",
      "execution_count": null,
      "outputs": []
    },
    {
      "cell_type": "markdown",
      "id": "58be9dd4",
      "metadata": {
        "id": "58be9dd4"
      },
      "source": [
        "#### 35. [1, 2, 3, 4, 5] vektor berilgan, har bir qiymat orasiga ketma-ket 3 ta nol raqamini yozuvchi dastur tuzing.\n"
      ]
    },
    {
      "cell_type": "markdown",
      "source": [
        "`💡Ishora` array[::4]"
      ],
      "metadata": {
        "id": "9cf9e134"
      },
      "id": "9cf9e134"
    },
    {
      "cell_type": "code",
      "source": [],
      "metadata": {
        "id": "04IuJ2jaZeYu"
      },
      "id": "04IuJ2jaZeYu",
      "execution_count": null,
      "outputs": []
    },
    {
      "cell_type": "markdown",
      "id": "781fa236",
      "metadata": {
        "id": "781fa236"
      },
      "source": [
        "#### 36. Quyidagi a massiv berilgan, a = [1,2,3,4,5,6,7,8,9,10,11,12,13,14] undan foydalangan holda siz quyidagi b massivni yarata olasizmi, b = [[1,2,3,4], [2,3,4,5], [3,4,5,6], ..., [11,12,13,14]]? \n"
      ]
    },
    {
      "cell_type": "markdown",
      "source": [
        "`💡Ishora` stride_tricks.as_strided"
      ],
      "metadata": {
        "id": "82e3d17e"
      },
      "id": "82e3d17e"
    },
    {
      "cell_type": "code",
      "source": [],
      "metadata": {
        "id": "S1H6ivCua3NZ"
      },
      "id": "S1H6ivCua3NZ",
      "execution_count": null,
      "outputs": []
    },
    {
      "cell_type": "markdown",
      "id": "7d8dc135",
      "metadata": {
        "id": "7d8dc135"
      },
      "source": [
        "#### 37. Ixtiyoriy sonlardan tashkil topgan massiv yarating, unga o'xshash qiymatlar kiriting. So'ng, o'xshash qiymatlarni topuvchi dastur tuzing.\n"
      ]
    },
    {
      "cell_type": "markdown",
      "source": [
        "`💡Ishora` np.bincount, argmax"
      ],
      "metadata": {
        "id": "81844e99"
      },
      "id": "81844e99"
    },
    {
      "cell_type": "code",
      "source": [],
      "metadata": {
        "id": "SiRaNwxjbaQN"
      },
      "id": "SiRaNwxjbaQN",
      "execution_count": null,
      "outputs": []
    },
    {
      "cell_type": "markdown",
      "source": [
        "#### BONUS!\n",
        "\n",
        "`💡O'zingiz javob berishni istagan savolni kiriting va unga javob bering!`"
      ],
      "metadata": {
        "id": "URzxwwODb0m_"
      },
      "id": "URzxwwODb0m_"
    },
    {
      "cell_type": "code",
      "source": [],
      "metadata": {
        "id": "9xpR0GVrbzuk"
      },
      "id": "9xpR0GVrbzuk",
      "execution_count": 213,
      "outputs": []
    }
  ],
  "metadata": {
    "hide_input": false,
    "kernelspec": {
      "display_name": "Python 3",
      "language": "python",
      "name": "python3"
    },
    "language_info": {
      "codemirror_mode": {
        "name": "ipython",
        "version": 3
      },
      "file_extension": ".py",
      "mimetype": "text/x-python",
      "name": "python",
      "nbconvert_exporter": "python",
      "pygments_lexer": "ipython3",
      "version": "3.8.8"
    },
    "toc": {
      "base_numbering": 1,
      "nav_menu": {},
      "number_sections": true,
      "sideBar": true,
      "skip_h1_title": false,
      "title_cell": "Table of Contents",
      "title_sidebar": "Contents",
      "toc_cell": false,
      "toc_position": {},
      "toc_section_display": true,
      "toc_window_display": false
    },
    "varInspector": {
      "cols": {
        "lenName": 16,
        "lenType": 16,
        "lenVar": 40
      },
      "kernels_config": {
        "python": {
          "delete_cmd_postfix": "",
          "delete_cmd_prefix": "del ",
          "library": "var_list.py",
          "varRefreshCmd": "print(var_dic_list())"
        },
        "r": {
          "delete_cmd_postfix": ") ",
          "delete_cmd_prefix": "rm(",
          "library": "var_list.r",
          "varRefreshCmd": "cat(var_dic_list()) "
        }
      },
      "types_to_exclude": [
        "module",
        "function",
        "builtin_function_or_method",
        "instance",
        "_Feature"
      ],
      "window_display": false
    },
    "colab": {
      "provenance": [],
      "include_colab_link": true
    }
  },
  "nbformat": 4,
  "nbformat_minor": 5
}